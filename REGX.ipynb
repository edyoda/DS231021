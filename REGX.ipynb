{
 "cells": [
  {
   "cell_type": "code",
   "execution_count": 1,
   "id": "a53e2dda",
   "metadata": {},
   "outputs": [],
   "source": [
    "# Regular Expressions"
   ]
  },
  {
   "cell_type": "code",
   "execution_count": null,
   "id": "bafa37f2",
   "metadata": {},
   "outputs": [],
   "source": [
    "IT IS A STRING CONTAINING SOME RULES TO MATCH OR DEFINE PARTICULAR PATTERN\n",
    "\n",
    "Everything around regular expression is put inside a module named as re\n",
    "in python."
   ]
  },
  {
   "cell_type": "code",
   "execution_count": 2,
   "id": "2b64b9a3",
   "metadata": {},
   "outputs": [],
   "source": [
    "import re"
   ]
  },
  {
   "cell_type": "code",
   "execution_count": null,
   "id": "a1f19271",
   "metadata": {},
   "outputs": [],
   "source": [
    "What is the application of RE?\n",
    "-> Pattern Validation\n",
    "-> Pattern Extraction\n",
    "-> String Matching and finding."
   ]
  },
  {
   "cell_type": "code",
   "execution_count": null,
   "id": "e1a50e47",
   "metadata": {},
   "outputs": [],
   "source": [
    "- numbers\n",
    "- special chars\n",
    "- min length\n",
    "\n",
    "- extract all the emails from the document."
   ]
  },
  {
   "cell_type": "code",
   "execution_count": null,
   "id": "29a8a74c",
   "metadata": {},
   "outputs": [],
   "source": [
    "## METACHARACTERS:\n",
    ".(dot) => matches with all the char(alphabets,digits,special chars,etc...)\n",
    "except the new line char '\\n'\n",
    "\n",
    "[] -> Character Class. A set of characters\n",
    "\n",
    "Quantifiers\n",
    "+ => atleast 1 or more occurence"
   ]
  },
  {
   "cell_type": "code",
   "execution_count": 6,
   "id": "6bc5978e",
   "metadata": {},
   "outputs": [
    {
     "name": "stdout",
     "output_type": "stream",
     "text": [
      "<re.Match object; span=(0, 12), match='applesbanana'>\n"
     ]
    }
   ],
   "source": [
    "import re\n",
    "\n",
    "# re.search(REGX,STRING_IN_WHICH_YOU_WANT_TO_SEARCH_RGX_PATTERN)\n",
    "# re.search matches the first pattern according to the REGX\n",
    "# and returns a match object with info.\n",
    "\n",
    "REGX = 'apple.banana'\n",
    "\n",
    "string = 'applesbananas'\n",
    "\n",
    "print(re.search(REGX, string))"
   ]
  },
  {
   "cell_type": "code",
   "execution_count": 10,
   "id": "68290666",
   "metadata": {},
   "outputs": [
    {
     "name": "stdout",
     "output_type": "stream",
     "text": [
      "None\n"
     ]
    }
   ],
   "source": [
    "REGX = 'apple.banana'\n",
    "\n",
    "string = 'I love to eat apple2bananas. Kiwi is also a great fruit.'\n",
    "\n",
    "print(re.search(REGX, string))"
   ]
  },
  {
   "cell_type": "code",
   "execution_count": 11,
   "id": "fe9cb03f",
   "metadata": {},
   "outputs": [
    {
     "name": "stdout",
     "output_type": "stream",
     "text": [
      "<re.Match object; span=(14, 27), match='apple##banana'>\n"
     ]
    }
   ],
   "source": [
    "REGX = 'apple..banana'\n",
    "\n",
    "string = 'I love to eat apple##bananas. Kiwi is also a great fruit.'\n",
    "\n",
    "print(re.search(REGX, string))"
   ]
  },
  {
   "cell_type": "code",
   "execution_count": 12,
   "id": "4da35cca",
   "metadata": {},
   "outputs": [
    {
     "name": "stdout",
     "output_type": "stream",
     "text": [
      "<re.Match object; span=(14, 29), match='apple##bananas.'>\n"
     ]
    }
   ],
   "source": [
    "REGX = 'apple..banana..'\n",
    "\n",
    "string = 'I love to eat apple##bananas. Kiwi is also a great fruit.'\n",
    "\n",
    "print(re.search(REGX, string))"
   ]
  },
  {
   "cell_type": "code",
   "execution_count": 13,
   "id": "902af935",
   "metadata": {},
   "outputs": [
    {
     "name": "stdout",
     "output_type": "stream",
     "text": [
      "None\n"
     ]
    }
   ],
   "source": [
    "REGX = 'apple.banana'\n",
    "\n",
    "string = 'I love to eat apple\\nbananas. Kiwi is also a great fruit.'\n",
    "\n",
    "print(re.search(REGX, string))"
   ]
  },
  {
   "cell_type": "code",
   "execution_count": 15,
   "id": "207d4bc7",
   "metadata": {},
   "outputs": [
    {
     "name": "stdout",
     "output_type": "stream",
     "text": [
      "<re.Match object; span=(0, 12), match='apple banana'>\n",
      "None\n",
      "<re.Match object; span=(0, 12), match='applesbanana'>\n"
     ]
    }
   ],
   "source": [
    "REGX = 'apple.banana'\n",
    "collection_of_strings = ['apple bananasMango','mango45banana','applesbananas']\n",
    "for string in collection_of_strings:\n",
    "    print(re.search(REGX, string))"
   ]
  },
  {
   "cell_type": "code",
   "execution_count": 17,
   "id": "275615c4",
   "metadata": {},
   "outputs": [
    {
     "name": "stdout",
     "output_type": "stream",
     "text": [
      "appleakiwi --> <re.Match object; span=(0, 10), match='appleakiwi'>\n",
      "applesbananas --> None\n",
      "apple8kiwi --> <re.Match object; span=(0, 10), match='apple8kiwi'>\n",
      "appleHkiwi --> None\n",
      "apple#kiwi --> <re.Match object; span=(0, 10), match='apple#kiwi'>\n",
      "apple@kiwi --> <re.Match object; span=(0, 10), match='apple@kiwi'>\n",
      "apple$kiwi --> None\n"
     ]
    }
   ],
   "source": [
    "# [] -> Character class is a set of characters.\n",
    "\n",
    "REGX = 'apple[a@#8]kiwi'\n",
    "collection_of_strings = ['appleakiwi',\n",
    "                         'applesbananas',\n",
    "                        'apple8kiwi',\n",
    "                        'appleHkiwi',\n",
    "                        'apple#kiwi',\n",
    "                        'apple@kiwi',\n",
    "                        'apple$kiwi']\n",
    "for string in collection_of_strings:\n",
    "    print(string,'-->',re.search(REGX, string))"
   ]
  },
  {
   "cell_type": "code",
   "execution_count": 23,
   "id": "e129fbda",
   "metadata": {},
   "outputs": [
    {
     "name": "stdout",
     "output_type": "stream",
     "text": [
      "appleaUkiwiAE --> <re.Match object; span=(0, 13), match='appleaUkiwiAE'>\n",
      "applesbananas --> None\n",
      "apple8kiwi --> None\n",
      "appleHkiwi --> None\n",
      "apple#kiwi --> None\n",
      "apple@kiwi --> None\n",
      "apple$kiwi --> None\n"
     ]
    }
   ],
   "source": [
    "REGX = 'apple[a@#8][AEIOU]kiwi[AEIOU][AEIOU]'\n",
    "collection_of_strings = ['appleaUkiwiAE',\n",
    "                         'applesbananas',\n",
    "                        'apple8kiwi',\n",
    "                        'appleHkiwi',\n",
    "                        'apple#kiwi',\n",
    "                        'apple@kiwi',\n",
    "                        'apple$kiwi']\n",
    "for string in collection_of_strings:\n",
    "    print(string,'-->',re.search(REGX, string))"
   ]
  },
  {
   "cell_type": "code",
   "execution_count": 26,
   "id": "40ad4f3e",
   "metadata": {},
   "outputs": [
    {
     "name": "stdout",
     "output_type": "stream",
     "text": [
      "appleaDkiwiAE --> <re.Match object; span=(0, 13), match='appleaDkiwiAE'>\n",
      "applesbananas --> None\n",
      "apple8kiwi --> None\n",
      "appleHkiwi --> None\n",
      "apple#kiwi --> None\n",
      "apple@kiwi --> None\n",
      "apple$kiwi --> None\n"
     ]
    }
   ],
   "source": [
    "# [A-Z] => ALL THE CAPITAL ALPHABETS.\n",
    "REGX = 'apple[a@#8][A-Z]kiwi[AEIOU][AEIOU]'\n",
    "collection_of_strings = ['appleaDkiwiAE',\n",
    "                         'applesbananas',\n",
    "                        'apple8kiwi',\n",
    "                        'appleHkiwi',\n",
    "                        'apple#kiwi',\n",
    "                        'apple@kiwi',\n",
    "                        'apple$kiwi']\n",
    "for string in collection_of_strings:\n",
    "    print(string,'-->',re.search(REGX, string))"
   ]
  },
  {
   "cell_type": "code",
   "execution_count": 30,
   "id": "bee2231a",
   "metadata": {},
   "outputs": [
    {
     "name": "stdout",
     "output_type": "stream",
     "text": [
      "appleEDkiwiAE --> None\n",
      "appleDbananas --> <re.Match object; span=(0, 6), match='appleD'>\n",
      "appleCkiwi --> <re.Match object; span=(0, 6), match='appleC'>\n",
      "appleBkiwi --> <re.Match object; span=(0, 6), match='appleB'>\n",
      "appleAkiwi --> <re.Match object; span=(0, 6), match='appleA'>\n",
      "appleZkiwi --> None\n",
      "appleXkiwi --> None\n"
     ]
    }
   ],
   "source": [
    "# [A-D] => CAPS FROM A TO D\n",
    "REGX = 'apple[A-D]'\n",
    "collection_of_strings = ['appleEDkiwiAE',\n",
    "                         'appleDbananas',\n",
    "                        'appleCkiwi',\n",
    "                        'appleBkiwi',\n",
    "                        'appleAkiwi',\n",
    "                        'appleZkiwi',\n",
    "                        'appleXkiwi']\n",
    "for string in collection_of_strings:\n",
    "    print(string,'-->',re.search(REGX, string))"
   ]
  },
  {
   "cell_type": "code",
   "execution_count": 32,
   "id": "cf006e4b",
   "metadata": {},
   "outputs": [
    {
     "name": "stdout",
     "output_type": "stream",
     "text": [
      "apple44DkiwiAE --> <re.Match object; span=(0, 6), match='apple4'>\n",
      "apple55bananas --> <re.Match object; span=(0, 6), match='apple5'>\n",
      "apple66kiwi --> None\n",
      "apple77kiwi --> None\n",
      "apple88kiwi --> None\n",
      "apple12kiwi --> <re.Match object; span=(0, 6), match='apple1'>\n",
      "apple05kiwi --> None\n"
     ]
    }
   ],
   "source": [
    "# [1-5] => INTEGERS FROM 1 TO 5\n",
    "REGX = 'apple[1-5]'\n",
    "collection_of_strings = ['apple44DkiwiAE',\n",
    "                         'apple55bananas',\n",
    "                        'apple66kiwi',\n",
    "                        'apple77kiwi',\n",
    "                        'apple88kiwi',\n",
    "                        'apple12kiwi',\n",
    "                        'apple05kiwi']\n",
    "for string in collection_of_strings:\n",
    "    print(string,'-->',re.search(REGX, string))"
   ]
  },
  {
   "cell_type": "code",
   "execution_count": 35,
   "id": "6af96e3d",
   "metadata": {},
   "outputs": [
    {
     "name": "stdout",
     "output_type": "stream",
     "text": [
      "apple44DkiwiAE --> <re.Match object; span=(0, 7), match='apple44'>\n",
      "apple55bananas --> <re.Match object; span=(0, 7), match='apple55'>\n",
      "apple66kiwi --> <re.Match object; span=(0, 7), match='apple66'>\n",
      "apple77kiwi --> <re.Match object; span=(0, 7), match='apple77'>\n",
      "apple88kiwi --> <re.Match object; span=(0, 7), match='apple88'>\n",
      "apple12kiwi --> <re.Match object; span=(0, 7), match='apple12'>\n",
      "I LOVE MANGOES.apple17kiwi --> <re.Match object; span=(15, 22), match='apple17'>\n"
     ]
    }
   ],
   "source": [
    "# [1-5] => INTEGERS FROM 1 TO 5\n",
    "REGX = 'apple[1-9][1-9]'\n",
    "collection_of_strings = ['apple44DkiwiAE',\n",
    "                         'apple55bananas',\n",
    "                        'apple66kiwi',\n",
    "                        'apple77kiwi',\n",
    "                        'apple88kiwi',\n",
    "                        'apple12kiwi',\n",
    "                        'I LOVE MANGOES.apple17kiwi']\n",
    "for string in collection_of_strings:\n",
    "    print(string,'-->',re.search(REGX, string))"
   ]
  },
  {
   "cell_type": "code",
   "execution_count": 36,
   "id": "c4662108",
   "metadata": {},
   "outputs": [
    {
     "name": "stdout",
     "output_type": "stream",
     "text": [
      "apple44DkiwiAE --> <re.Match object; span=(0, 7), match='apple44'>\n",
      "apple55bananas --> <re.Match object; span=(0, 7), match='apple55'>\n",
      "apple60kiwi --> <re.Match object; span=(0, 7), match='apple60'>\n",
      "apple77kiwi --> <re.Match object; span=(0, 7), match='apple77'>\n",
      "apple08kiwi --> <re.Match object; span=(0, 7), match='apple08'>\n",
      "apple00kiwi --> <re.Match object; span=(0, 7), match='apple00'>\n",
      "I LOVE MANGOES.apple17kiwi --> <re.Match object; span=(15, 22), match='apple17'>\n"
     ]
    }
   ],
   "source": [
    "# [1-5] => INTEGERS FROM 1 TO 5\n",
    "REGX = 'apple-[0-9][0-9]'\n",
    "collection_of_strings = ['apple44DkiwiAE',\n",
    "                         'apple55bananas',\n",
    "                        'apple60kiwi',\n",
    "                        'apple77kiwi',\n",
    "                        'apple08kiwi',\n",
    "                        'apple00kiwi',\n",
    "                        'I LOVE MANGOES.apple17kiwi']\n",
    "for string in collection_of_strings:\n",
    "    print(string,'-->',re.search(REGX, string))"
   ]
  },
  {
   "cell_type": "code",
   "execution_count": 40,
   "id": "8df9c9da",
   "metadata": {},
   "outputs": [
    {
     "name": "stdout",
     "output_type": "stream",
     "text": [
      "apple44DkiwiAE --> <re.Match object; span=(0, 7), match='apple44'>\n",
      "apple55bananas --> <re.Match object; span=(0, 7), match='apple55'>\n",
      "apple6ckiwi --> <re.Match object; span=(0, 7), match='apple6c'>\n",
      "apple77kiwi --> <re.Match object; span=(0, 7), match='apple77'>\n",
      "apple08kiwi --> <re.Match object; span=(0, 7), match='apple08'>\n",
      "apple00kiwi --> <re.Match object; span=(0, 7), match='apple00'>\n",
      "I LOVE MANGOES.apple17kiwi --> <re.Match object; span=(15, 22), match='apple17'>\n"
     ]
    }
   ],
   "source": [
    "# [A-Z0-9] => all the caps alphabets and integers.\n",
    "\n",
    "REGX = 'apple[A-Z0-9][a-z0-9]'\n",
    "collection_of_strings = ['apple44DkiwiAE',\n",
    "                         'apple55bananas',\n",
    "                        'apple6ckiwi',\n",
    "                        'appleF7kiwi',\n",
    "                        'appleDakiwi',\n",
    "                        'apple00kiwi',\n",
    "                        'I LOVE MANGOES.apple17kiwi']\n",
    "for string in collection_of_strings:\n",
    "    print(string,'-->',re.search(REGX, string))"
   ]
  },
  {
   "cell_type": "code",
   "execution_count": 41,
   "id": "b4549f80",
   "metadata": {},
   "outputs": [
    {
     "name": "stdout",
     "output_type": "stream",
     "text": [
      "A89 --> <re.Match object; span=(0, 3), match='A89'>\n",
      "f78 --> None\n",
      "R8# --> None\n",
      "T00 --> <re.Match object; span=(0, 3), match='T00'>\n",
      "Z39 --> <re.Match object; span=(0, 3), match='Z39'>\n",
      "X77 --> <re.Match object; span=(0, 3), match='X77'>\n",
      "W19 --> <re.Match object; span=(0, 3), match='W19'>\n"
     ]
    }
   ],
   "source": [
    "# Q1) write regx for matching single capital alphabet followed by 2 digit\n",
    "# number.\n",
    "# 8:25.\n",
    "\n",
    "# [A-Z0-9] => all the caps alphabets and integers.\n",
    "\n",
    "REGX = '[A-Z][0-9][0-9]'\n",
    "collection_of_strings = ['A89',\n",
    "                        'f78',\n",
    "                        'R8#',\n",
    "                        'T00',\n",
    "                        'Z39',\n",
    "                        'X77',\n",
    "                        'W19']\n",
    "for string in collection_of_strings:\n",
    "    print(string,'-->',re.search(REGX, string))"
   ]
  },
  {
   "cell_type": "code",
   "execution_count": null,
   "id": "af0b1660",
   "metadata": {},
   "outputs": [],
   "source": [
    "Quantifiers\n",
    "+ => atleast 1 or more occurence\n",
    "\n",
    "* => 0 or more occurence"
   ]
  },
  {
   "cell_type": "code",
   "execution_count": 45,
   "id": "57599f7d",
   "metadata": {},
   "outputs": [
    {
     "name": "stdout",
     "output_type": "stream",
     "text": [
      "943028dsjkflA89 --> <re.Match object; span=(12, 15), match='A89'>\n",
      "@#$#$^f78 --> None\n",
      "djklfALSDF234R8# --> <re.Match object; span=(9, 13), match='F234'>\n",
      "SDJFKL234T005 --> <re.Match object; span=(5, 9), match='L234'>\n",
      "SDKLF2345@#%$Z3978 --> <re.Match object; span=(4, 9), match='F2345'>\n",
      "SJDKLF!@#%$X774509876 --> <re.Match object; span=(11, 21), match='X774509876'>\n",
      "SDLKF!@#$%W19902843293804249308239048 --> <re.Match object; span=(10, 37), match='W19902843293804249308239048'>\n",
      "ASDJFL!@#A8B --> <re.Match object; span=(9, 11), match='A8'>\n"
     ]
    }
   ],
   "source": [
    "REGX = '[A-Z][0-9]+'\n",
    "collection_of_strings = ['943028dsjkflA89',\n",
    "                        '@#$#$^f78',\n",
    "                        'djklfALSDF234R8#',\n",
    "                        'SDJFKL234T005',\n",
    "                        'SDKLF2345@#%$Z3978',\n",
    "                        'SJDKLF!@#%$X774509876',\n",
    "                        'SDLKF!@#$%W19902843293804249308239048',\n",
    "                        'ASDJFL!@#A8B']\n",
    "for string in collection_of_strings:\n",
    "    print(string,'-->',re.search(REGX, string))"
   ]
  },
  {
   "cell_type": "code",
   "execution_count": 48,
   "id": "3638b44a",
   "metadata": {},
   "outputs": [
    {
     "name": "stdout",
     "output_type": "stream",
     "text": [
      "#23 --> <re.Match object; span=(0, 3), match='#23'>\n",
      "#4 --> None\n",
      "78# --> None\n",
      "T#TY78 --> None\n",
      "###888 --> <re.Match object; span=(0, 5), match='###88'>\n",
      "##7890 --> <re.Match object; span=(0, 4), match='##78'>\n",
      "MANGO#99 --> <re.Match object; span=(5, 8), match='#99'>\n"
     ]
    }
   ],
   "source": [
    "REGX = '#+[0-9][0-9]'\n",
    "collection_of_strings = ['#23',\n",
    "                        '#4',\n",
    "                        '78#',\n",
    "                        'T#TY78',\n",
    "                        '###888',\n",
    "                        '##7890',\n",
    "                        'MANGO#99']\n",
    "for string in collection_of_strings:\n",
    "    print(string,'-->',re.search(REGX, string))"
   ]
  },
  {
   "cell_type": "code",
   "execution_count": 51,
   "id": "9ce2a9de",
   "metadata": {},
   "outputs": [
    {
     "name": "stdout",
     "output_type": "stream",
     "text": [
      "fff23 --> <re.Match object; span=(0, 5), match='fff23'>\n",
      "f4 --> None\n",
      "7f8# --> None\n",
      "T#fffTY78 --> None\n",
      "fff888 --> <re.Match object; span=(0, 5), match='fff88'>\n",
      "fff7890 --> <re.Match object; span=(0, 5), match='fff78'>\n",
      "ffff9978 --> <re.Match object; span=(0, 6), match='ffff99'>\n"
     ]
    }
   ],
   "source": [
    "REGX = 'f+[0-9][0-9]'\n",
    "collection_of_strings = ['fff23',\n",
    "                        'f4',\n",
    "                        '7f8#',\n",
    "                        'T#fffTY78',\n",
    "                        'fff888',\n",
    "                        'fff7890',\n",
    "                        'ffff9978']\n",
    "for string in collection_of_strings:\n",
    "    print(string,'-->',re.search(REGX, string))"
   ]
  },
  {
   "cell_type": "code",
   "execution_count": 54,
   "id": "d749dc2e",
   "metadata": {},
   "outputs": [
    {
     "name": "stdout",
     "output_type": "stream",
     "text": [
      "f23 --> <re.Match object; span=(0, 3), match='f23'>\n",
      "f4 --> None\n",
      "f78 --> <re.Match object; span=(0, 3), match='f78'>\n",
      "TTY78 --> <re.Match object; span=(3, 5), match='78'>\n",
      "888 --> <re.Match object; span=(0, 2), match='88'>\n",
      "ffff7890 --> <re.Match object; span=(0, 6), match='ffff78'>\n",
      "MANGO#99 --> <re.Match object; span=(6, 8), match='99'>\n"
     ]
    }
   ],
   "source": [
    "# *\n",
    "REGX = 'f*[0-9][0-9]'\n",
    "collection_of_strings = ['f23',\n",
    "                        'f4',\n",
    "                        'f78',\n",
    "                        'TTY78',\n",
    "                        '888',\n",
    "                        'ffff7890',\n",
    "                        'MANGO#99']\n",
    "for string in collection_of_strings:\n",
    "    print(string,'-->',re.search(REGX, string))"
   ]
  },
  {
   "cell_type": "code",
   "execution_count": 60,
   "id": "0f6fbf40",
   "metadata": {},
   "outputs": [
    {
     "name": "stdout",
     "output_type": "stream",
     "text": [
      "Apple --> None\n",
      "44K@ --> <re.Match object; span=(0, 4), match='44K@'>\n",
      "7890a --> None\n",
      "678t@ --> <re.Match object; span=(0, 5), match='678t@'>\n",
      "12Mj@ --> <re.Match object; span=(3, 5), match='j@'>\n"
     ]
    }
   ],
   "source": [
    "# *\n",
    "REGX = '[0-9]*[A-Za-z]@'\n",
    "collection_of_strings = ['Apple',\n",
    "                        '44K@',\n",
    "                        '7890a',\n",
    "                        '678t@',\n",
    "                        '12Mj@']\n",
    "for string in collection_of_strings:\n",
    "    print(string,'-->',re.search(REGX, string))"
   ]
  },
  {
   "cell_type": "code",
   "execution_count": null,
   "id": "89ab1ef9",
   "metadata": {},
   "outputs": [],
   "source": [
    "Quantifier\n",
    "\n",
    "? => once or not at all"
   ]
  },
  {
   "cell_type": "code",
   "execution_count": 63,
   "id": "06d8ef6a",
   "metadata": {},
   "outputs": [
    {
     "name": "stdout",
     "output_type": "stream",
     "text": [
      "Apple@ --> <re.Match object; span=(4, 6), match='e@'>\n",
      "44K@ --> <re.Match object; span=(1, 4), match='4K@'>\n",
      "7890a --> None\n",
      "678t@ --> <re.Match object; span=(2, 5), match='8t@'>\n",
      "12Mj@ --> <re.Match object; span=(3, 5), match='j@'>\n",
      "A@ --> <re.Match object; span=(0, 2), match='A@'>\n"
     ]
    }
   ],
   "source": [
    "# *\n",
    "REGX = '[0-9]?[A-Za-z]@'\n",
    "collection_of_strings = ['Apple@',\n",
    "                        '44K@',\n",
    "                        '7890a',\n",
    "                        '678t@',\n",
    "                        '12Mj@',\n",
    "                        'A@']\n",
    "for string in collection_of_strings:\n",
    "    print(string,'-->',re.search(REGX, string))"
   ]
  },
  {
   "cell_type": "code",
   "execution_count": 59,
   "id": "2ec61c39",
   "metadata": {},
   "outputs": [
    {
     "name": "stdout",
     "output_type": "stream",
     "text": [
      "Appl3e@@@@ --> <re.Match object; span=(4, 10), match='3e@@@@'>\n",
      "44K@ --> <re.Match object; span=(1, 4), match='4K@'>\n",
      "7890a --> <re.Match object; span=(3, 5), match='0a'>\n",
      "678t@ --> <re.Match object; span=(2, 5), match='8t@'>\n",
      "12Mj@ --> <re.Match object; span=(1, 3), match='2M'>\n"
     ]
    }
   ],
   "source": [
    "# *\n",
    "REGX = '[0-9][A-Za-z]@*'\n",
    "collection_of_strings = ['Appl3e@@@@',\n",
    "                        '44K@',\n",
    "                        '7890a',\n",
    "                        '678t@',\n",
    "                        '12Mj@']\n",
    "for string in collection_of_strings:\n",
    "    print(string,'-->',re.search(REGX, string))"
   ]
  },
  {
   "cell_type": "code",
   "execution_count": 61,
   "id": "bab41341",
   "metadata": {},
   "outputs": [
    {
     "name": "stdout",
     "output_type": "stream",
     "text": [
      "Appl3e@@@@ --> <re.Match object; span=(0, 1), match='A'>\n",
      "44K@ --> <re.Match object; span=(1, 4), match='4K@'>\n",
      "7890a --> <re.Match object; span=(3, 5), match='0a'>\n",
      "678t@ --> <re.Match object; span=(2, 5), match='8t@'>\n",
      "12Mj@ --> <re.Match object; span=(1, 3), match='2M'>\n"
     ]
    }
   ],
   "source": [
    "# *\n",
    "REGX = '[0-9]?[A-Za-z]@*'\n",
    "collection_of_strings = ['Appl3e@@@@',\n",
    "                        '44K@',\n",
    "                        '7890a',\n",
    "                        '678t@',\n",
    "                        '12Mj@']\n",
    "for string in collection_of_strings:\n",
    "    print(string,'-->',re.search(REGX, string))"
   ]
  },
  {
   "cell_type": "code",
   "execution_count": 64,
   "id": "b96876a9",
   "metadata": {},
   "outputs": [
    {
     "name": "stdout",
     "output_type": "stream",
     "text": [
      "Appl3e@@@@ --> None\n",
      "44K@ --> None\n",
      "7890a78b --> <re.Match object; span=(2, 5), match='90a'>\n",
      "678t@ --> <re.Match object; span=(1, 4), match='78t'>\n",
      "12Mj@ --> None\n"
     ]
    }
   ],
   "source": [
    "# *\n",
    "REGX = '[0-9][0-9][a-z]'\n",
    "collection_of_strings = ['Appl3e@@@@',\n",
    "                        '44K@',\n",
    "                        '7890a78b',\n",
    "                        '678t@',\n",
    "                        '12Mj@']\n",
    "for string in collection_of_strings:\n",
    "    print(string,'-->',re.search(REGX, string))\n",
    "    \n",
    "# re.search only gives the first match\n",
    "# what if i want all the matches?"
   ]
  },
  {
   "cell_type": "code",
   "execution_count": 66,
   "id": "8b766ea0",
   "metadata": {},
   "outputs": [
    {
     "data": {
      "text/plain": [
       "'90a'"
      ]
     },
     "execution_count": 66,
     "metadata": {},
     "output_type": "execute_result"
    }
   ],
   "source": [
    "x = '7890a78b'\n",
    "x[2:5]"
   ]
  },
  {
   "cell_type": "code",
   "execution_count": 65,
   "id": "94dc09c2",
   "metadata": {},
   "outputs": [
    {
     "name": "stdout",
     "output_type": "stream",
     "text": [
      "Appl3e@@@@ --> []\n",
      "44K@ --> []\n",
      "7890a78b --> ['90a', '78b']\n",
      "678t@ --> ['78t']\n",
      "12Mj@ --> []\n"
     ]
    }
   ],
   "source": [
    "# *\n",
    "REGX = '[0-9][0-9][a-z]'\n",
    "collection_of_strings = ['Appl3e@@@@',\n",
    "                        '44K@',\n",
    "                        '7890a78b',\n",
    "                        '678t@',\n",
    "                        '12Mj@']\n",
    "for string in collection_of_strings:\n",
    "    print(string,'-->',re.findall(REGX, string))\n",
    "    \n",
    "# re.search only gives the first match\n",
    "# what if i want all the matches?"
   ]
  },
  {
   "cell_type": "code",
   "execution_count": null,
   "id": "e39e762d",
   "metadata": {},
   "outputs": [],
   "source": []
  }
 ],
 "metadata": {
  "kernelspec": {
   "display_name": "Python 3 (ipykernel)",
   "language": "python",
   "name": "python3"
  },
  "language_info": {
   "codemirror_mode": {
    "name": "ipython",
    "version": 3
   },
   "file_extension": ".py",
   "mimetype": "text/x-python",
   "name": "python",
   "nbconvert_exporter": "python",
   "pygments_lexer": "ipython3",
   "version": "3.8.9"
  }
 },
 "nbformat": 4,
 "nbformat_minor": 5
}
