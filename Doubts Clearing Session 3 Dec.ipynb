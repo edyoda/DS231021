{
 "cells": [
  {
   "cell_type": "code",
   "execution_count": 9,
   "id": "62c97edb",
   "metadata": {},
   "outputs": [
    {
     "name": "stdout",
     "output_type": "stream",
     "text": [
      "The lyrics is good. We are all happy now\n"
     ]
    }
   ],
   "source": [
    "x = 'The lyrics is not blah blah blah poor. We are all happy now'\n",
    "b = x.find('not')\n",
    "c = x.find('poor')\n",
    "if c > b:\n",
    "    print(x[:b]+'good'+x[c+len('poor'):])"
   ]
  },
  {
   "cell_type": "code",
   "execution_count": 24,
   "id": "6a6f7a8c",
   "metadata": {},
   "outputs": [
    {
     "data": {
      "text/plain": [
       "'The lyrics is good. We are all happy now'"
      ]
     },
     "execution_count": 24,
     "metadata": {},
     "output_type": "execute_result"
    }
   ],
   "source": [
    "import re\n",
    "x = 'The lyrics is not that poor. We are all happy now'\n",
    "regx = 'not.*poor'\n",
    "m = re.search(regx,x)\n",
    "x.replace(x[m.span()[0]:m.span()[1]],\"good\")"
   ]
  },
  {
   "cell_type": "code",
   "execution_count": 18,
   "id": "d607781d",
   "metadata": {},
   "outputs": [
    {
     "data": {
      "text/plain": [
       "(14, 37)"
      ]
     },
     "execution_count": 18,
     "metadata": {},
     "output_type": "execute_result"
    }
   ],
   "source": [
    "m.span()"
   ]
  },
  {
   "cell_type": "code",
   "execution_count": 21,
   "id": "5693189d",
   "metadata": {},
   "outputs": [
    {
     "data": {
      "text/plain": [
       "14"
      ]
     },
     "execution_count": 21,
     "metadata": {},
     "output_type": "execute_result"
    }
   ],
   "source": [
    "m.span()[0]"
   ]
  },
  {
   "cell_type": "code",
   "execution_count": 22,
   "id": "e78f9a3f",
   "metadata": {},
   "outputs": [
    {
     "data": {
      "text/plain": [
       "37"
      ]
     },
     "execution_count": 22,
     "metadata": {},
     "output_type": "execute_result"
    }
   ],
   "source": [
    "m.span()[1]"
   ]
  },
  {
   "cell_type": "code",
   "execution_count": 19,
   "id": "951cac12",
   "metadata": {},
   "outputs": [
    {
     "data": {
      "text/plain": [
       "'not blah blah blah poor'"
      ]
     },
     "execution_count": 19,
     "metadata": {},
     "output_type": "execute_result"
    }
   ],
   "source": [
    "x[14:37]"
   ]
  },
  {
   "cell_type": "code",
   "execution_count": 20,
   "id": "e32da32b",
   "metadata": {},
   "outputs": [
    {
     "data": {
      "text/plain": [
       "'The lyrics is good. We are all happy now'"
      ]
     },
     "execution_count": 20,
     "metadata": {},
     "output_type": "execute_result"
    }
   ],
   "source": [
    "x.replace(x[m.span()[0]:m.span()[1]],\"good\")"
   ]
  },
  {
   "cell_type": "code",
   "execution_count": 25,
   "id": "771c5648",
   "metadata": {},
   "outputs": [],
   "source": [
    "import re\n",
    "x = 'The lyrics is not that poor. We are all happy now'\n",
    "regx = 'not.*poor'\n",
    "m = re.search(regx,x)"
   ]
  },
  {
   "cell_type": "code",
   "execution_count": 26,
   "id": "bf89dc47",
   "metadata": {},
   "outputs": [
    {
     "name": "stdout",
     "output_type": "stream",
     "text": [
      "<re.Match object; span=(14, 27), match='not that poor'>\n"
     ]
    }
   ],
   "source": [
    "print(m)"
   ]
  },
  {
   "cell_type": "code",
   "execution_count": 27,
   "id": "dfc4036d",
   "metadata": {},
   "outputs": [
    {
     "data": {
      "text/plain": [
       "14"
      ]
     },
     "execution_count": 27,
     "metadata": {},
     "output_type": "execute_result"
    }
   ],
   "source": [
    "m.span()[0]"
   ]
  },
  {
   "cell_type": "code",
   "execution_count": 28,
   "id": "d52c3247",
   "metadata": {},
   "outputs": [
    {
     "data": {
      "text/plain": [
       "27"
      ]
     },
     "execution_count": 28,
     "metadata": {},
     "output_type": "execute_result"
    }
   ],
   "source": [
    "m.span()[1]"
   ]
  },
  {
   "cell_type": "code",
   "execution_count": 29,
   "id": "277c3181",
   "metadata": {},
   "outputs": [],
   "source": [
    "# questions using functions"
   ]
  },
  {
   "cell_type": "code",
   "execution_count": null,
   "id": "8d963b0f",
   "metadata": {},
   "outputs": [],
   "source": [
    "Peak element problem"
   ]
  },
  {
   "cell_type": "code",
   "execution_count": null,
   "id": "5b6216a1",
   "metadata": {},
   "outputs": [],
   "source": [
    "Hint: Deal with edge test cases.\n",
    "    peak element is first or the last one."
   ]
  },
  {
   "cell_type": "code",
   "execution_count": 44,
   "id": "604a0fa9",
   "metadata": {},
   "outputs": [
    {
     "name": "stdout",
     "output_type": "stream",
     "text": [
      "0\n",
      "2\n"
     ]
    }
   ],
   "source": [
    "x = [1,2]\n",
    "for i in range(len(x) - 1):\n",
    "    print(i)\n",
    "    print(x[i+1])\n",
    "    \n",
    "# make sure that i+1 =>last_index_position\n",
    "# i => last_index_position - 1\n",
    "# i => len(x) - 1 - 1\n",
    "# i => len(x) - 2 + 1 => len(x) - 1"
   ]
  },
  {
   "cell_type": "code",
   "execution_count": 60,
   "id": "b96933e6",
   "metadata": {},
   "outputs": [
    {
     "name": "stdout",
     "output_type": "stream",
     "text": [
      "20\n",
      "90\n"
     ]
    }
   ],
   "source": [
    "a =[10,20,15,2,23,90,67]\n",
    "for i in range(0,len(a)-1):\n",
    "    if a[i]>a[i-1]and a[i]>a[i+1]:\n",
    "        print(a[i])"
   ]
  },
  {
   "cell_type": "code",
   "execution_count": 65,
   "id": "e8d64771",
   "metadata": {},
   "outputs": [
    {
     "name": "stdout",
     "output_type": "stream",
     "text": [
      "2\n",
      "3\n"
     ]
    }
   ],
   "source": [
    "a =[2,1,3]\n",
    "m = len(a)\n",
    "if m == 1:\n",
    "    print(a[0])\n",
    "else:\n",
    "# if first or last element is peak\n",
    "    if a[0] > a[1]:\n",
    "        print(a[0])\n",
    "    if a[m-1] > a[m-2]:\n",
    "        print(a[m-1])\n",
    "# testing for middle elements\n",
    "    for i in range(1,m-1):\n",
    "        if a[i]>a[i-1]and a[i]>a[i+1]:\n",
    "            print(a[i])"
   ]
  },
  {
   "cell_type": "code",
   "execution_count": null,
   "id": "6d60a6d0",
   "metadata": {},
   "outputs": [],
   "source": [
    "Sort the Array/list of 0s,1s,2s"
   ]
  },
  {
   "cell_type": "code",
   "execution_count": 81,
   "id": "87abbf19",
   "metadata": {},
   "outputs": [
    {
     "name": "stdout",
     "output_type": "stream",
     "text": [
      "[0, 0, 0, 1, 1, 1, 1, 2, 2, 2]\n"
     ]
    }
   ],
   "source": [
    "x = [0,2,0,1,1,2,0,2,1,1]\n",
    "count_0 = 0\n",
    "count_1 = 0\n",
    "count_2 = 0\n",
    "final = []\n",
    "for i in x:\n",
    "    if i == 0:\n",
    "        count_0+=1\n",
    "    elif i == 1:\n",
    "        count_1+=1\n",
    "    else:\n",
    "        count_2+=1\n",
    "# print(count_0,count_1,count_2)\n",
    "for i in range(count_0):\n",
    "    final.append(0)\n",
    "for i in range(count_1):\n",
    "    final.append(1)\n",
    "for i in range(count_2):\n",
    "    final.append(2)\n",
    "print(final)"
   ]
  },
  {
   "cell_type": "code",
   "execution_count": 83,
   "id": "44bffa43",
   "metadata": {},
   "outputs": [
    {
     "name": "stdout",
     "output_type": "stream",
     "text": [
      "[0, 0, 0, 1, 1, 1, 1, 2, 2, 2]\n"
     ]
    }
   ],
   "source": [
    "final = []\n",
    "x = [0,2,0,1,1,2,0,2,1,1]\n",
    "for i in range(x.count(0)):\n",
    "    final.append(0)\n",
    "for i in range(x.count(1)):\n",
    "    final.append(1)\n",
    "for i in range(x.count(2)):\n",
    "    final.append(2)\n",
    "print(final)"
   ]
  },
  {
   "cell_type": "code",
   "execution_count": 85,
   "id": "12330bb9",
   "metadata": {},
   "outputs": [
    {
     "name": "stdout",
     "output_type": "stream",
     "text": [
      "[0, 0, 0, 1, 1, 1, 1, 2, 2, 2]\n"
     ]
    }
   ],
   "source": [
    "final = []\n",
    "x = [0,2,0,1,1,2,0,2,1,1]\n",
    "for j in [0,1,2]:\n",
    "    for i in range(x.count(j)):\n",
    "        final.append(j)\n",
    "print(final)"
   ]
  },
  {
   "cell_type": "code",
   "execution_count": null,
   "id": "fde2aca8",
   "metadata": {},
   "outputs": [],
   "source": []
  }
 ],
 "metadata": {
  "kernelspec": {
   "display_name": "Python 3 (ipykernel)",
   "language": "python",
   "name": "python3"
  },
  "language_info": {
   "codemirror_mode": {
    "name": "ipython",
    "version": 3
   },
   "file_extension": ".py",
   "mimetype": "text/x-python",
   "name": "python",
   "nbconvert_exporter": "python",
   "pygments_lexer": "ipython3",
   "version": "3.8.9"
  }
 },
 "nbformat": 4,
 "nbformat_minor": 5
}
