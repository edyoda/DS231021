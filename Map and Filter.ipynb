{
 "cells": [
  {
   "cell_type": "code",
   "execution_count": 1,
   "id": "8d9a3853",
   "metadata": {},
   "outputs": [],
   "source": [
    "# map"
   ]
  },
  {
   "cell_type": "code",
   "execution_count": 2,
   "id": "48bfcd46",
   "metadata": {},
   "outputs": [],
   "source": [
    "def sqr(n):\n",
    "    return n**2"
   ]
  },
  {
   "cell_type": "code",
   "execution_count": 3,
   "id": "daa852c9",
   "metadata": {},
   "outputs": [
    {
     "data": {
      "text/plain": [
       "4"
      ]
     },
     "execution_count": 3,
     "metadata": {},
     "output_type": "execute_result"
    }
   ],
   "source": [
    "sqr(2)"
   ]
  },
  {
   "cell_type": "code",
   "execution_count": 5,
   "id": "1f1b6b62",
   "metadata": {},
   "outputs": [
    {
     "data": {
      "text/plain": [
       "[1, 4, 9]"
      ]
     },
     "execution_count": 5,
     "metadata": {},
     "output_type": "execute_result"
    }
   ],
   "source": [
    "list(map(sqr,[1,2,3]))"
   ]
  },
  {
   "cell_type": "code",
   "execution_count": 7,
   "id": "3dc90dd6",
   "metadata": {},
   "outputs": [
    {
     "data": {
      "text/plain": [
       "[1, 2, 8, 6]"
      ]
     },
     "execution_count": 7,
     "metadata": {},
     "output_type": "execute_result"
    }
   ],
   "source": [
    "list(map(len,['I','am','learning','python']))"
   ]
  },
  {
   "cell_type": "code",
   "execution_count": null,
   "id": "09059cda",
   "metadata": {},
   "outputs": [],
   "source": [
    "Iterables:\n",
    "    list\n",
    "    dict\n",
    "    tuple\n",
    "    str\n",
    "    set"
   ]
  },
  {
   "cell_type": "code",
   "execution_count": 9,
   "id": "3b867823",
   "metadata": {},
   "outputs": [
    {
     "data": {
      "text/plain": [
       "[1, 2, 8, 6]"
      ]
     },
     "execution_count": 9,
     "metadata": {},
     "output_type": "execute_result"
    }
   ],
   "source": [
    "list(map(len,('I','am','learning','python')))"
   ]
  },
  {
   "cell_type": "code",
   "execution_count": null,
   "id": "d3d48573",
   "metadata": {},
   "outputs": [],
   "source": [
    "Q1) Use map to the following results when the item is in the given_list\n",
    "\n",
    "'potato' => 'gold'\n",
    "'harpic' => 'hussain'\n",
    "'mango' => 'fruiti'\n",
    "\n",
    "given_list = ['potato','harpic','harpic']\n",
    "result = ['gold','hussain','hussain']"
   ]
  },
  {
   "cell_type": "code",
   "execution_count": 10,
   "id": "7dd9d23e",
   "metadata": {},
   "outputs": [],
   "source": [
    "def funfun(string):\n",
    "    if string == 'potato':\n",
    "        return 'gold'\n",
    "    elif string == 'harpic':\n",
    "        return 'hussain'\n",
    "    else:\n",
    "        return 'fruiti'"
   ]
  },
  {
   "cell_type": "code",
   "execution_count": 12,
   "id": "3e96581c",
   "metadata": {},
   "outputs": [
    {
     "name": "stdout",
     "output_type": "stream",
     "text": [
      "['gold', 'hussain', 'hussain']\n"
     ]
    }
   ],
   "source": [
    "given_list = ['potato','harpic','harpic']\n",
    "x = map(funfun,given_list)\n",
    "print(list(x))"
   ]
  },
  {
   "cell_type": "code",
   "execution_count": 15,
   "id": "8a2df996",
   "metadata": {},
   "outputs": [],
   "source": [
    "def funfun(string):\n",
    "    pranjul_dict = {'potato':'gold','harpic':'hussain','mango':'fruiti'}\n",
    "    return pranjul_dict[string]"
   ]
  },
  {
   "cell_type": "code",
   "execution_count": 17,
   "id": "0595c056",
   "metadata": {},
   "outputs": [
    {
     "name": "stdout",
     "output_type": "stream",
     "text": [
      "['gold', 'hussain', 'hussain', 'fruiti']\n"
     ]
    }
   ],
   "source": [
    "given_list = ['potato','harpic','harpic','mango']\n",
    "x = map(funfun,given_list)\n",
    "print(list(x))"
   ]
  },
  {
   "cell_type": "code",
   "execution_count": 18,
   "id": "184cab8a",
   "metadata": {},
   "outputs": [
    {
     "data": {
      "text/plain": [
       "str"
      ]
     },
     "execution_count": 18,
     "metadata": {},
     "output_type": "execute_result"
    }
   ],
   "source": [
    "x = ['11','22','33','44','55']\n",
    "type(x[0])"
   ]
  },
  {
   "cell_type": "code",
   "execution_count": 20,
   "id": "3c3a703b",
   "metadata": {},
   "outputs": [
    {
     "name": "stdout",
     "output_type": "stream",
     "text": [
      "<class 'int'>\n",
      "[11, 22, 33, 44, 55]\n"
     ]
    }
   ],
   "source": [
    "for i in range(0,len(x)):\n",
    "    x[i] = int(x[i])\n",
    "print(type(x[0]))\n",
    "print(x)"
   ]
  },
  {
   "cell_type": "code",
   "execution_count": 21,
   "id": "15f3ac82",
   "metadata": {},
   "outputs": [
    {
     "name": "stdout",
     "output_type": "stream",
     "text": [
      "<class 'int'>\n"
     ]
    }
   ],
   "source": [
    "x = ['11','22','33','44','55']\n",
    "\n",
    "x = list(map(int,x))\n",
    "print(type(x[0]))"
   ]
  },
  {
   "cell_type": "code",
   "execution_count": null,
   "id": "96f1b396",
   "metadata": {},
   "outputs": [],
   "source": [
    "Q2) x = [23,34,45,56,79,99]\n",
    "    x = ['odd','even','odd','even','odd','odd']\n",
    "    \n",
    "    y = [1,3]\n",
    "    y = ['odd','odd']\n",
    "    \n",
    "    z = [3,4]\n",
    "    z = ['odd','even']\n",
    "    \n",
    "# Do it using map\n",
    "# 8:07"
   ]
  },
  {
   "cell_type": "code",
   "execution_count": 22,
   "id": "08e8ab73",
   "metadata": {},
   "outputs": [],
   "source": [
    "def funfun2(n):\n",
    "    if n%2 == 0:\n",
    "        return 'even'\n",
    "    else:\n",
    "        return 'odd'"
   ]
  },
  {
   "cell_type": "code",
   "execution_count": 23,
   "id": "0fb26d39",
   "metadata": {},
   "outputs": [
    {
     "data": {
      "text/plain": [
       "['odd', 'even', 'odd', 'even', 'odd', 'odd']"
      ]
     },
     "execution_count": 23,
     "metadata": {},
     "output_type": "execute_result"
    }
   ],
   "source": [
    "list(map(funfun2,[23,34,45,56,79,99]))"
   ]
  },
  {
   "cell_type": "code",
   "execution_count": 26,
   "id": "c8e0cbe0",
   "metadata": {},
   "outputs": [
    {
     "data": {
      "text/plain": [
       "[6, 4]"
      ]
     },
     "execution_count": 26,
     "metadata": {},
     "output_type": "execute_result"
    }
   ],
   "source": [
    "list(map(len,{'python':3,'java':8}))"
   ]
  },
  {
   "cell_type": "code",
   "execution_count": 28,
   "id": "28af2621",
   "metadata": {},
   "outputs": [],
   "source": [
    "def funone(n):\n",
    "    return (n,n+3)"
   ]
  },
  {
   "cell_type": "code",
   "execution_count": 35,
   "id": "69511e83",
   "metadata": {},
   "outputs": [
    {
     "data": {
      "text/plain": [
       "[(1, 4), (2, 5), (3, 6), (4, 7)]"
      ]
     },
     "execution_count": 35,
     "metadata": {},
     "output_type": "execute_result"
    }
   ],
   "source": [
    "list(map(funone,[1,2,3,4]))"
   ]
  },
  {
   "cell_type": "code",
   "execution_count": 30,
   "id": "0b524fd9",
   "metadata": {},
   "outputs": [],
   "source": [
    "# you can convert a list of tuples with length 2 into a dict."
   ]
  },
  {
   "cell_type": "code",
   "execution_count": 31,
   "id": "c30c2387",
   "metadata": {},
   "outputs": [],
   "source": [
    "x = {'python':3,'java':8}"
   ]
  },
  {
   "cell_type": "code",
   "execution_count": 32,
   "id": "ea43c02b",
   "metadata": {},
   "outputs": [
    {
     "data": {
      "text/plain": [
       "dict_items([('python', 3), ('java', 8)])"
      ]
     },
     "execution_count": 32,
     "metadata": {},
     "output_type": "execute_result"
    }
   ],
   "source": [
    "x.items()"
   ]
  },
  {
   "cell_type": "code",
   "execution_count": 37,
   "id": "afe0d945",
   "metadata": {},
   "outputs": [],
   "source": [
    "xList = [('python', 'apple'), ('java', 'mango')]\n",
    "yDict = dict(xList)"
   ]
  },
  {
   "cell_type": "code",
   "execution_count": 38,
   "id": "091c76b0",
   "metadata": {},
   "outputs": [
    {
     "name": "stdout",
     "output_type": "stream",
     "text": [
      "{'python': 'apple', 'java': 'mango'}\n"
     ]
    }
   ],
   "source": [
    "print(yDict)"
   ]
  },
  {
   "cell_type": "code",
   "execution_count": 39,
   "id": "637054ae",
   "metadata": {},
   "outputs": [
    {
     "data": {
      "text/plain": [
       "[5, 5]"
      ]
     },
     "execution_count": 39,
     "metadata": {},
     "output_type": "execute_result"
    }
   ],
   "source": [
    "list(map(len,yDict.values()))"
   ]
  },
  {
   "cell_type": "code",
   "execution_count": 40,
   "id": "b7044169",
   "metadata": {},
   "outputs": [
    {
     "name": "stdout",
     "output_type": "stream",
     "text": [
      "[34, 56]\n"
     ]
    }
   ],
   "source": [
    "x = [23,34,45,56,79,99]\n",
    "\n",
    "# final_result = [34,56]\n",
    "def fun(n):\n",
    "    if n%2 == 0:\n",
    "        return True\n",
    "    else:\n",
    "        return False\n",
    "\n",
    "final_result = list(filter(fun,x))\n",
    "print(final_result)"
   ]
  },
  {
   "cell_type": "code",
   "execution_count": 41,
   "id": "b3df2c97",
   "metadata": {},
   "outputs": [],
   "source": [
    "def funtwo(n):\n",
    "    return True"
   ]
  },
  {
   "cell_type": "code",
   "execution_count": 42,
   "id": "13ae66af",
   "metadata": {},
   "outputs": [
    {
     "data": {
      "text/plain": [
       "[23, 34, 45, 56, 79, 99]"
      ]
     },
     "execution_count": 42,
     "metadata": {},
     "output_type": "execute_result"
    }
   ],
   "source": [
    "list(filter(funtwo,[23,34,45,56,79,99]))"
   ]
  },
  {
   "cell_type": "code",
   "execution_count": 43,
   "id": "04b5c7eb",
   "metadata": {},
   "outputs": [],
   "source": [
    "def funtwo(n):\n",
    "    return True"
   ]
  },
  {
   "cell_type": "code",
   "execution_count": 44,
   "id": "f8d16a0d",
   "metadata": {},
   "outputs": [
    {
     "data": {
      "text/plain": [
       "True"
      ]
     },
     "execution_count": 44,
     "metadata": {},
     "output_type": "execute_result"
    }
   ],
   "source": [
    "funtwo(3)"
   ]
  },
  {
   "cell_type": "code",
   "execution_count": 53,
   "id": "5e98a6dc",
   "metadata": {},
   "outputs": [
    {
     "data": {
      "text/plain": [
       "['nhpc']"
      ]
     },
     "execution_count": 53,
     "metadata": {},
     "output_type": "execute_result"
    }
   ],
   "source": [
    "share_dict = {'paytm':1640,'paras-defence':715,\n",
    " 'tata-motors':478,'idea':12.60,'nhpc':31.80}\n",
    "\n",
    "def fun(name):\n",
    "    if share_dict[name] < 150:\n",
    "        return True\n",
    "\n",
    "list(filter(fun,['paytm','nhpc','tata-motors']))"
   ]
  },
  {
   "cell_type": "code",
   "execution_count": 47,
   "id": "26b6b411",
   "metadata": {},
   "outputs": [],
   "source": [
    "def simple(string):\n",
    "    if string[0] == 'p':\n",
    "        return True\n",
    "    else:\n",
    "        return False"
   ]
  },
  {
   "cell_type": "code",
   "execution_count": 48,
   "id": "0697c262",
   "metadata": {},
   "outputs": [
    {
     "data": {
      "text/plain": [
       "True"
      ]
     },
     "execution_count": 48,
     "metadata": {},
     "output_type": "execute_result"
    }
   ],
   "source": [
    "simple('python')"
   ]
  },
  {
   "cell_type": "code",
   "execution_count": 49,
   "id": "cc19701f",
   "metadata": {},
   "outputs": [
    {
     "data": {
      "text/plain": [
       "False"
      ]
     },
     "execution_count": 49,
     "metadata": {},
     "output_type": "execute_result"
    }
   ],
   "source": [
    "simple('zython')"
   ]
  },
  {
   "cell_type": "code",
   "execution_count": 50,
   "id": "89b7dd06",
   "metadata": {},
   "outputs": [
    {
     "data": {
      "text/plain": [
       "False"
      ]
     },
     "execution_count": 50,
     "metadata": {},
     "output_type": "execute_result"
    }
   ],
   "source": [
    "simple('cython')"
   ]
  },
  {
   "cell_type": "code",
   "execution_count": 51,
   "id": "0ff95dd2",
   "metadata": {},
   "outputs": [
    {
     "data": {
      "text/plain": [
       "True"
      ]
     },
     "execution_count": 51,
     "metadata": {},
     "output_type": "execute_result"
    }
   ],
   "source": [
    "simple('papaya')"
   ]
  },
  {
   "cell_type": "code",
   "execution_count": 52,
   "id": "ed247227",
   "metadata": {},
   "outputs": [
    {
     "data": {
      "text/plain": [
       "True"
      ]
     },
     "execution_count": 52,
     "metadata": {},
     "output_type": "execute_result"
    }
   ],
   "source": [
    "simple('package')"
   ]
  },
  {
   "cell_type": "code",
   "execution_count": null,
   "id": "23627a06",
   "metadata": {},
   "outputs": [],
   "source": [
    "student_dict = {'pranjul':32,'kamlesh':55,\n",
    "                'mudgal':78,'yella':56,'shinde':39}\n",
    "\n",
    "compete_students = ['pranjul','mudgal','shinde']\n",
    "passing_marks = 50\n",
    "final_students = ['mudgal']\n",
    "\n",
    "# Question of the day\n",
    "# 5 minutes."
   ]
  },
  {
   "cell_type": "code",
   "execution_count": 57,
   "id": "e43b339d",
   "metadata": {},
   "outputs": [],
   "source": [
    "student_dict = {'pranjul':32,'kamlesh':55,\n",
    "                'mudgal':78,'yella':56,'shinde':39}\n",
    "\n",
    "def fun(name):\n",
    "    if student_dict[name] > 50:\n",
    "        return True\n",
    "    else:\n",
    "        return False"
   ]
  },
  {
   "cell_type": "code",
   "execution_count": 58,
   "id": "f2b7b768",
   "metadata": {},
   "outputs": [],
   "source": [
    "compete_students = ['pranjul','mudgal','shinde']"
   ]
  },
  {
   "cell_type": "code",
   "execution_count": 59,
   "id": "4bb06f6e",
   "metadata": {},
   "outputs": [
    {
     "data": {
      "text/plain": [
       "['mudgal']"
      ]
     },
     "execution_count": 59,
     "metadata": {},
     "output_type": "execute_result"
    }
   ],
   "source": [
    "list(filter(fun,compete_students))"
   ]
  },
  {
   "cell_type": "code",
   "execution_count": null,
   "id": "aace1c45",
   "metadata": {},
   "outputs": [],
   "source": [
    "# Lambda Functions"
   ]
  },
  {
   "cell_type": "code",
   "execution_count": null,
   "id": "3f20ab42",
   "metadata": {},
   "outputs": [],
   "source": [
    "name(optional) = lambda parameters : returned value\n",
    "\n",
    "-> don't have to use any return statement, whatever is after colon\n",
    "is automatically considered to be returned."
   ]
  },
  {
   "cell_type": "code",
   "execution_count": 60,
   "id": "b7a39d7b",
   "metadata": {},
   "outputs": [],
   "source": [
    "fun = lambda x,y : x+y"
   ]
  },
  {
   "cell_type": "code",
   "execution_count": 61,
   "id": "5be34655",
   "metadata": {},
   "outputs": [
    {
     "data": {
      "text/plain": [
       "7"
      ]
     },
     "execution_count": 61,
     "metadata": {},
     "output_type": "execute_result"
    }
   ],
   "source": [
    "fun(3,4)"
   ]
  },
  {
   "cell_type": "code",
   "execution_count": 62,
   "id": "641ccd43",
   "metadata": {},
   "outputs": [
    {
     "data": {
      "text/plain": [
       "3"
      ]
     },
     "execution_count": 62,
     "metadata": {},
     "output_type": "execute_result"
    }
   ],
   "source": [
    "fun(1,2)"
   ]
  },
  {
   "cell_type": "code",
   "execution_count": 63,
   "id": "99b3f24b",
   "metadata": {},
   "outputs": [
    {
     "data": {
      "text/plain": [
       "2"
      ]
     },
     "execution_count": 63,
     "metadata": {},
     "output_type": "execute_result"
    }
   ],
   "source": [
    "fun(1,1)"
   ]
  },
  {
   "cell_type": "code",
   "execution_count": 64,
   "id": "15521560",
   "metadata": {},
   "outputs": [
    {
     "data": {
      "text/plain": [
       "8"
      ]
     },
     "execution_count": 64,
     "metadata": {},
     "output_type": "execute_result"
    }
   ],
   "source": [
    "fun(3,5)"
   ]
  },
  {
   "cell_type": "code",
   "execution_count": 65,
   "id": "a06cf3cd",
   "metadata": {},
   "outputs": [],
   "source": [
    "fun2 = lambda x : len(x)"
   ]
  },
  {
   "cell_type": "code",
   "execution_count": 66,
   "id": "79b30872",
   "metadata": {},
   "outputs": [
    {
     "data": {
      "text/plain": [
       "6"
      ]
     },
     "execution_count": 66,
     "metadata": {},
     "output_type": "execute_result"
    }
   ],
   "source": [
    "fun2('python')"
   ]
  },
  {
   "cell_type": "code",
   "execution_count": 67,
   "id": "0ebb985b",
   "metadata": {},
   "outputs": [
    {
     "data": {
      "text/plain": [
       "1"
      ]
     },
     "execution_count": 67,
     "metadata": {},
     "output_type": "execute_result"
    }
   ],
   "source": [
    "fun2('a')"
   ]
  },
  {
   "cell_type": "code",
   "execution_count": 68,
   "id": "9406ef9a",
   "metadata": {},
   "outputs": [
    {
     "data": {
      "text/plain": [
       "5"
      ]
     },
     "execution_count": 68,
     "metadata": {},
     "output_type": "execute_result"
    }
   ],
   "source": [
    "fun2('mango')"
   ]
  },
  {
   "cell_type": "code",
   "execution_count": 69,
   "id": "f8f6c7c8",
   "metadata": {},
   "outputs": [
    {
     "data": {
      "text/plain": [
       "9"
      ]
     },
     "execution_count": 69,
     "metadata": {},
     "output_type": "execute_result"
    }
   ],
   "source": [
    "fun2('venkatesh')"
   ]
  },
  {
   "cell_type": "code",
   "execution_count": 70,
   "id": "6591fb9c",
   "metadata": {},
   "outputs": [
    {
     "data": {
      "text/plain": [
       "7"
      ]
     },
     "execution_count": 70,
     "metadata": {},
     "output_type": "execute_result"
    }
   ],
   "source": [
    "fun2('anandas')"
   ]
  },
  {
   "cell_type": "code",
   "execution_count": null,
   "id": "e622e309",
   "metadata": {},
   "outputs": [],
   "source": [
    "fun2 = lambda x : len(x)\n",
    "# The above lambda function can be written in normal function way as follows:-\n",
    "# OR\n",
    "def fun2(x):\n",
    "    return len(x)"
   ]
  },
  {
   "cell_type": "code",
   "execution_count": 71,
   "id": "d355ff4a",
   "metadata": {},
   "outputs": [],
   "source": [
    "fun3 = lambda x : \"even\" if x%2==0 else \"odd\""
   ]
  },
  {
   "cell_type": "code",
   "execution_count": 72,
   "id": "1c31b9fc",
   "metadata": {},
   "outputs": [
    {
     "data": {
      "text/plain": [
       "'even'"
      ]
     },
     "execution_count": 72,
     "metadata": {},
     "output_type": "execute_result"
    }
   ],
   "source": [
    "fun3(4)"
   ]
  },
  {
   "cell_type": "code",
   "execution_count": 73,
   "id": "e13dc001",
   "metadata": {},
   "outputs": [
    {
     "data": {
      "text/plain": [
       "'odd'"
      ]
     },
     "execution_count": 73,
     "metadata": {},
     "output_type": "execute_result"
    }
   ],
   "source": [
    "fun3(21)"
   ]
  },
  {
   "cell_type": "code",
   "execution_count": 74,
   "id": "9ce7f095",
   "metadata": {},
   "outputs": [
    {
     "name": "stdout",
     "output_type": "stream",
     "text": [
      "even\n"
     ]
    }
   ],
   "source": [
    "number = 2100\n",
    "print(\"even\" if number%2==0 else \"odd\")\n",
    "\n",
    "if number%2==0:\n",
    "    print('even')\n",
    "else:\n",
    "    print('odd')"
   ]
  },
  {
   "cell_type": "code",
   "execution_count": 75,
   "id": "e62c17cc",
   "metadata": {},
   "outputs": [
    {
     "name": "stdout",
     "output_type": "stream",
     "text": [
      "even\n",
      "HOOOWOWOWOWO\n",
      "64\n"
     ]
    }
   ],
   "source": [
    "if number%2==0:\n",
    "    print('even')\n",
    "    print('HOOOWOWOWOWO')\n",
    "    x = 34\n",
    "    y = 30\n",
    "    print(x+y)\n",
    "else:\n",
    "    print('odd')"
   ]
  },
  {
   "cell_type": "code",
   "execution_count": 80,
   "id": "3f795cf1",
   "metadata": {},
   "outputs": [
    {
     "name": "stdout",
     "output_type": "stream",
     "text": [
      "bad\n"
     ]
    }
   ],
   "source": [
    "number = -15\n",
    "\"even\" if number%2==0 else (number if number>0 else 'bad')\n",
    "\n",
    "if number%2==0:\n",
    "    print('even')\n",
    "else:\n",
    "    if number>0:\n",
    "        print(number)\n",
    "    else:\n",
    "        print(\"bad\")"
   ]
  },
  {
   "cell_type": "code",
   "execution_count": 77,
   "id": "14cc5b57",
   "metadata": {},
   "outputs": [
    {
     "name": "stdout",
     "output_type": "stream",
     "text": [
      "even\n"
     ]
    }
   ],
   "source": [
    "print(x)"
   ]
  },
  {
   "cell_type": "code",
   "execution_count": 82,
   "id": "51522849",
   "metadata": {},
   "outputs": [],
   "source": [
    "fun3 = lambda a : a+5"
   ]
  },
  {
   "cell_type": "code",
   "execution_count": 83,
   "id": "a6b162a7",
   "metadata": {},
   "outputs": [
    {
     "data": {
      "text/plain": [
       "50"
      ]
     },
     "execution_count": 83,
     "metadata": {},
     "output_type": "execute_result"
    }
   ],
   "source": [
    "fun3(45)"
   ]
  },
  {
   "cell_type": "code",
   "execution_count": 84,
   "id": "9286552d",
   "metadata": {},
   "outputs": [
    {
     "data": {
      "text/plain": [
       "28"
      ]
     },
     "execution_count": 84,
     "metadata": {},
     "output_type": "execute_result"
    }
   ],
   "source": [
    "fun3(23)"
   ]
  },
  {
   "cell_type": "code",
   "execution_count": 85,
   "id": "70e70739",
   "metadata": {},
   "outputs": [
    {
     "data": {
      "text/plain": [
       "17"
      ]
     },
     "execution_count": 85,
     "metadata": {},
     "output_type": "execute_result"
    }
   ],
   "source": [
    "fun3(12)"
   ]
  },
  {
   "cell_type": "code",
   "execution_count": 86,
   "id": "4366b5d9",
   "metadata": {},
   "outputs": [
    {
     "data": {
      "text/plain": [
       "[6, 7, 8, 9]"
      ]
     },
     "execution_count": 86,
     "metadata": {},
     "output_type": "execute_result"
    }
   ],
   "source": [
    "list(map(lambda a : a+5,[1,2,3,4]))"
   ]
  },
  {
   "cell_type": "code",
   "execution_count": 88,
   "id": "4abb6bf9",
   "metadata": {},
   "outputs": [
    {
     "data": {
      "text/plain": [
       "['odd', 'even', 'odd', 'even']"
      ]
     },
     "execution_count": 88,
     "metadata": {},
     "output_type": "execute_result"
    }
   ],
   "source": [
    "list(map(lambda a : 'even' if a%2==0 else 'odd',[1,2,3,4]))"
   ]
  },
  {
   "cell_type": "code",
   "execution_count": null,
   "id": "d05c37d6",
   "metadata": {},
   "outputs": [],
   "source": [
    "-> map\n",
    "-> filter\n",
    "-> lambda\n",
    "-> if else in single line\n",
    "-> nested if else in single line\n",
    "-> use lambda in map"
   ]
  },
  {
   "cell_type": "code",
   "execution_count": 89,
   "id": "66e19df8",
   "metadata": {},
   "outputs": [
    {
     "data": {
      "text/plain": [
       "[2, 4]"
      ]
     },
     "execution_count": 89,
     "metadata": {},
     "output_type": "execute_result"
    }
   ],
   "source": [
    "list(filter(lambda a : True if a%2==0 else False,[1,2,3,4]))"
   ]
  },
  {
   "cell_type": "code",
   "execution_count": 94,
   "id": "b9645811",
   "metadata": {},
   "outputs": [],
   "source": [
    "import re\n",
    "def password_validation(password):\n",
    "    if len(password) >= 8:\n",
    "        list_of_regx = ['[a-z]','[0-9]','[A-Z]','[!-/:-@]']\n",
    "        for regx in list_of_regx:\n",
    "            if re.search(regx,password):\n",
    "                continue\n",
    "            else:\n",
    "                return False\n",
    "        else:\n",
    "            return True\n",
    "    else:\n",
    "        return False"
   ]
  },
  {
   "cell_type": "code",
   "execution_count": 99,
   "id": "7b971b5d",
   "metadata": {},
   "outputs": [
    {
     "data": {
      "text/plain": [
       "['Tomato@1234', 'Good#Papa2']"
      ]
     },
     "execution_count": 99,
     "metadata": {},
     "output_type": "execute_result"
    }
   ],
   "source": [
    "list(filter(password_validation,['Tomato@1234',\n",
    "                                 'tomato@1234',\n",
    "                                 '1234',\n",
    "                                  '@@##',\n",
    "                                  'APPLE',\n",
    "                                  'Good#Papa2',\n",
    "                                   '@1aQ']))"
   ]
  },
  {
   "cell_type": "code",
   "execution_count": 102,
   "id": "fdb3df52",
   "metadata": {},
   "outputs": [
    {
     "name": "stdout",
     "output_type": "stream",
     "text": [
      "I am in else\n"
     ]
    }
   ],
   "source": [
    "# if for loop terminated with a break than else part will not run.\n",
    "# FOR-ELSE LOOP\n",
    "# IT IS A CORRECT INDENTATION.\n",
    "for i in range(1,6):\n",
    "    if i == 8:\n",
    "        break\n",
    "else:\n",
    "    print('I am in else')"
   ]
  },
  {
   "cell_type": "code",
   "execution_count": null,
   "id": "731ba6e5",
   "metadata": {},
   "outputs": [],
   "source": []
  }
 ],
 "metadata": {
  "kernelspec": {
   "display_name": "Python 3 (ipykernel)",
   "language": "python",
   "name": "python3"
  },
  "language_info": {
   "codemirror_mode": {
    "name": "ipython",
    "version": 3
   },
   "file_extension": ".py",
   "mimetype": "text/x-python",
   "name": "python",
   "nbconvert_exporter": "python",
   "pygments_lexer": "ipython3",
   "version": "3.8.9"
  }
 },
 "nbformat": 4,
 "nbformat_minor": 5
}
