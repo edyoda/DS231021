{
 "cells": [
  {
   "cell_type": "code",
   "execution_count": 1,
   "id": "e373f0b1",
   "metadata": {},
   "outputs": [],
   "source": [
    "def fun(a):\n",
    "    return a+2"
   ]
  },
  {
   "cell_type": "code",
   "execution_count": 3,
   "id": "5b5d328d",
   "metadata": {},
   "outputs": [
    {
     "data": {
      "text/plain": [
       "[12, 22, 32]"
      ]
     },
     "execution_count": 3,
     "metadata": {},
     "output_type": "execute_result"
    }
   ],
   "source": [
    "list(map(fun,[10,20,30]))"
   ]
  },
  {
   "cell_type": "code",
   "execution_count": 4,
   "id": "d0888e72",
   "metadata": {},
   "outputs": [],
   "source": [
    "def fun2(a):\n",
    "    if a > 0:\n",
    "        return True\n",
    "    else:\n",
    "        return False"
   ]
  },
  {
   "cell_type": "code",
   "execution_count": 6,
   "id": "5c031aac",
   "metadata": {},
   "outputs": [
    {
     "data": {
      "text/plain": [
       "[5, 3, 2]"
      ]
     },
     "execution_count": 6,
     "metadata": {},
     "output_type": "execute_result"
    }
   ],
   "source": [
    "list(filter(fun2,[-9,5,-5,3,2,-1,0]))"
   ]
  },
  {
   "cell_type": "code",
   "execution_count": 7,
   "id": "80c986ec",
   "metadata": {},
   "outputs": [
    {
     "data": {
      "text/plain": [
       "[False, True, False, True, True, False, False]"
      ]
     },
     "execution_count": 7,
     "metadata": {},
     "output_type": "execute_result"
    }
   ],
   "source": [
    "list(map(fun2,[-9,5,-5,3,2,-1,0]))"
   ]
  },
  {
   "cell_type": "code",
   "execution_count": 8,
   "id": "3a340142",
   "metadata": {},
   "outputs": [],
   "source": [
    "x = lambda a : a+2"
   ]
  },
  {
   "cell_type": "code",
   "execution_count": 9,
   "id": "f33e6e51",
   "metadata": {},
   "outputs": [
    {
     "data": {
      "text/plain": [
       "5"
      ]
     },
     "execution_count": 9,
     "metadata": {},
     "output_type": "execute_result"
    }
   ],
   "source": [
    "x(3)"
   ]
  },
  {
   "cell_type": "code",
   "execution_count": 10,
   "id": "df604ca8",
   "metadata": {},
   "outputs": [
    {
     "data": {
      "text/plain": [
       "12"
      ]
     },
     "execution_count": 10,
     "metadata": {},
     "output_type": "execute_result"
    }
   ],
   "source": [
    "x(10)"
   ]
  },
  {
   "cell_type": "code",
   "execution_count": 11,
   "id": "390201da",
   "metadata": {},
   "outputs": [
    {
     "data": {
      "text/plain": [
       "22"
      ]
     },
     "execution_count": 11,
     "metadata": {},
     "output_type": "execute_result"
    }
   ],
   "source": [
    "x(20)"
   ]
  },
  {
   "cell_type": "code",
   "execution_count": 13,
   "id": "baa61692",
   "metadata": {},
   "outputs": [],
   "source": [
    "x = lambda a,b,c : a+b+2*c"
   ]
  },
  {
   "cell_type": "code",
   "execution_count": 14,
   "id": "42d6bf57",
   "metadata": {},
   "outputs": [
    {
     "data": {
      "text/plain": [
       "9"
      ]
     },
     "execution_count": 14,
     "metadata": {},
     "output_type": "execute_result"
    }
   ],
   "source": [
    "x(1,2,3)"
   ]
  },
  {
   "cell_type": "code",
   "execution_count": 15,
   "id": "7b886a03",
   "metadata": {},
   "outputs": [],
   "source": [
    "# Test if a string contains a vowel"
   ]
  },
  {
   "cell_type": "code",
   "execution_count": null,
   "id": "da1b7e8e",
   "metadata": {},
   "outputs": [],
   "source": [
    "'python' => True\n",
    "'fly' => False\n",
    "\n",
    "vowels = 'aeiou'\n",
    "# using lambda expression"
   ]
  },
  {
   "cell_type": "code",
   "execution_count": 18,
   "id": "2ac74e7e",
   "metadata": {},
   "outputs": [
    {
     "name": "stdout",
     "output_type": "stream",
     "text": [
      "True\n"
     ]
    }
   ],
   "source": [
    "x = 'python'\n",
    "\n",
    "# print('a' in x)\n",
    "# print('e' in x)\n",
    "# print('i' in x)\n",
    "# print('o' in x)\n",
    "# print('u' in x)\n",
    "\n",
    "print('a' in x or 'e' in x or 'i' in x or 'o' in x or 'u' in x)"
   ]
  },
  {
   "cell_type": "code",
   "execution_count": 19,
   "id": "e4d5d7ce",
   "metadata": {},
   "outputs": [],
   "source": [
    "y = lambda x : 'a' in x or 'e' in x or 'i' in x or 'o' in x or 'u' in x"
   ]
  },
  {
   "cell_type": "code",
   "execution_count": 20,
   "id": "6b6ce4a7",
   "metadata": {},
   "outputs": [
    {
     "data": {
      "text/plain": [
       "False"
      ]
     },
     "execution_count": 20,
     "metadata": {},
     "output_type": "execute_result"
    }
   ],
   "source": [
    "y('sky')"
   ]
  },
  {
   "cell_type": "code",
   "execution_count": 21,
   "id": "65581bd3",
   "metadata": {},
   "outputs": [
    {
     "data": {
      "text/plain": [
       "True"
      ]
     },
     "execution_count": 21,
     "metadata": {},
     "output_type": "execute_result"
    }
   ],
   "source": [
    "y('apple')"
   ]
  },
  {
   "cell_type": "code",
   "execution_count": 24,
   "id": "42be47cc",
   "metadata": {},
   "outputs": [
    {
     "data": {
      "text/plain": [
       "[5, 3, 2]"
      ]
     },
     "execution_count": 24,
     "metadata": {},
     "output_type": "execute_result"
    }
   ],
   "source": [
    "list(filter(lambda x : x > 0,[-9,5,-5,3,2,-1,0]))"
   ]
  },
  {
   "cell_type": "code",
   "execution_count": 22,
   "id": "c964d622",
   "metadata": {},
   "outputs": [
    {
     "name": "stdout",
     "output_type": "stream",
     "text": [
      "False\n"
     ]
    }
   ],
   "source": [
    "x = -4\n",
    "print(x > 0)"
   ]
  },
  {
   "cell_type": "code",
   "execution_count": 23,
   "id": "a007a13e",
   "metadata": {},
   "outputs": [
    {
     "name": "stdout",
     "output_type": "stream",
     "text": [
      "True\n"
     ]
    }
   ],
   "source": [
    "x = 4\n",
    "print(x > 0)"
   ]
  },
  {
   "cell_type": "code",
   "execution_count": 27,
   "id": "592c1b1a",
   "metadata": {},
   "outputs": [
    {
     "data": {
      "text/plain": [
       "[2, 4, 22, 24, 300]"
      ]
     },
     "execution_count": 27,
     "metadata": {},
     "output_type": "execute_result"
    }
   ],
   "source": [
    "list(filter(lambda x : x%2==0,[1,2,4,5,19,22,24,35,299,300]))"
   ]
  },
  {
   "cell_type": "code",
   "execution_count": null,
   "id": "d904f759",
   "metadata": {},
   "outputs": [],
   "source": [
    "# lambda functions are also known as nameless functions."
   ]
  },
  {
   "cell_type": "code",
   "execution_count": 26,
   "id": "9974cf30",
   "metadata": {},
   "outputs": [
    {
     "name": "stdout",
     "output_type": "stream",
     "text": [
      "False\n"
     ]
    }
   ],
   "source": [
    "x = 5\n",
    "print(x%2==0)"
   ]
  },
  {
   "cell_type": "code",
   "execution_count": 29,
   "id": "3c688ffa",
   "metadata": {},
   "outputs": [
    {
     "data": {
      "text/plain": [
       "[False, True, True, False, False, True, True, False, False, True]"
      ]
     },
     "execution_count": 29,
     "metadata": {},
     "output_type": "execute_result"
    }
   ],
   "source": [
    "list(map(lambda x : x%2==0,[1,2,4,5,19,22,24,35,299,300]))"
   ]
  },
  {
   "cell_type": "code",
   "execution_count": 30,
   "id": "19384a85",
   "metadata": {},
   "outputs": [
    {
     "data": {
      "text/plain": [
       "['odd', 'even', 'even', 'odd', 'odd', 'even', 'even', 'odd', 'odd', 'even']"
      ]
     },
     "execution_count": 30,
     "metadata": {},
     "output_type": "execute_result"
    }
   ],
   "source": [
    "list(map(lambda x : 'even' if x%2==0 else 'odd',[1,2,4,5,19,22,24,35,299,300]))"
   ]
  },
  {
   "cell_type": "code",
   "execution_count": 28,
   "id": "baf5a987",
   "metadata": {},
   "outputs": [],
   "source": [
    "# lambda functions in key arguments"
   ]
  },
  {
   "cell_type": "code",
   "execution_count": 34,
   "id": "01e5b31d",
   "metadata": {},
   "outputs": [
    {
     "data": {
      "text/plain": [
       "[1, 3, 10, 20, 23, 34, 100]"
      ]
     },
     "execution_count": 34,
     "metadata": {},
     "output_type": "execute_result"
    }
   ],
   "source": [
    "ids = [23,34,1,10,20,3,100]\n",
    "sorted(ids)"
   ]
  },
  {
   "cell_type": "code",
   "execution_count": 33,
   "id": "3250fe08",
   "metadata": {},
   "outputs": [
    {
     "data": {
      "text/plain": [
       "['#1', '#10', '#100', '#20', '#23', '#3', '#34']"
      ]
     },
     "execution_count": 33,
     "metadata": {},
     "output_type": "execute_result"
    }
   ],
   "source": [
    "ids = ['#23','#34','#1','#10','#20','#3','#100']\n",
    "sorted(ids)"
   ]
  },
  {
   "cell_type": "code",
   "execution_count": null,
   "id": "cc5cba7c",
   "metadata": {},
   "outputs": [],
   "source": [
    "# sorted(ids,key=fun_which_will_be_applied_on_every_item_of_ids_before_sorting)\n"
   ]
  },
  {
   "cell_type": "code",
   "execution_count": 35,
   "id": "9e22fe9c",
   "metadata": {},
   "outputs": [],
   "source": [
    "def fun(a):\n",
    "    return int(a[1:])"
   ]
  },
  {
   "cell_type": "code",
   "execution_count": 36,
   "id": "dd08a900",
   "metadata": {},
   "outputs": [
    {
     "data": {
      "text/plain": [
       "100"
      ]
     },
     "execution_count": 36,
     "metadata": {},
     "output_type": "execute_result"
    }
   ],
   "source": [
    "fun('#100')"
   ]
  },
  {
   "cell_type": "code",
   "execution_count": 37,
   "id": "ce4e0ef0",
   "metadata": {},
   "outputs": [
    {
     "data": {
      "text/plain": [
       "23"
      ]
     },
     "execution_count": 37,
     "metadata": {},
     "output_type": "execute_result"
    }
   ],
   "source": [
    "fun('#23')"
   ]
  },
  {
   "cell_type": "code",
   "execution_count": 38,
   "id": "de385e14",
   "metadata": {},
   "outputs": [
    {
     "data": {
      "text/plain": [
       "['#1', '#3', '#10', '#20', '#23', '#34', '#100']"
      ]
     },
     "execution_count": 38,
     "metadata": {},
     "output_type": "execute_result"
    }
   ],
   "source": [
    "ids = ['#23','#34','#1','#10','#20','#3','#100']\n",
    "sorted(ids,key=fun)"
   ]
  },
  {
   "cell_type": "code",
   "execution_count": 39,
   "id": "ee509919",
   "metadata": {},
   "outputs": [
    {
     "data": {
      "text/plain": [
       "['#1', '#3', '#10', '#20', '#23', '#34', '#100']"
      ]
     },
     "execution_count": 39,
     "metadata": {},
     "output_type": "execute_result"
    }
   ],
   "source": [
    "ids = ['#23','#34','#1','#10','#20','#3','#100']\n",
    "sorted(ids,key=lambda x: int(x[1:]))"
   ]
  },
  {
   "cell_type": "code",
   "execution_count": 40,
   "id": "0faa0722",
   "metadata": {},
   "outputs": [],
   "source": [
    "def mango(a,b):\n",
    "    return a+b"
   ]
  },
  {
   "cell_type": "code",
   "execution_count": 41,
   "id": "b19feeae",
   "metadata": {},
   "outputs": [
    {
     "data": {
      "text/plain": [
       "46"
      ]
     },
     "execution_count": 41,
     "metadata": {},
     "output_type": "execute_result"
    }
   ],
   "source": [
    "mango(b=32,a=14)"
   ]
  },
  {
   "cell_type": "code",
   "execution_count": 42,
   "id": "d08ce10a",
   "metadata": {},
   "outputs": [],
   "source": [
    "## List Comprehensions"
   ]
  },
  {
   "cell_type": "code",
   "execution_count": 43,
   "id": "0438b2dc",
   "metadata": {},
   "outputs": [],
   "source": [
    "# Short way or one line way of making a list with some logic"
   ]
  },
  {
   "cell_type": "code",
   "execution_count": null,
   "id": "1277188f",
   "metadata": {},
   "outputs": [],
   "source": [
    "Syntax:\n",
    "    [write code inside these]"
   ]
  },
  {
   "cell_type": "code",
   "execution_count": 44,
   "id": "2c07b8ca",
   "metadata": {},
   "outputs": [
    {
     "name": "stdout",
     "output_type": "stream",
     "text": [
      "[54, 78]\n"
     ]
    }
   ],
   "source": [
    "list1 = [1,23,43,54,65,78]\n",
    "\n",
    "even_list = []\n",
    "\n",
    "for i in list1:\n",
    "    if i%2==0:\n",
    "        even_list.append(i)\n",
    "print(even_list)"
   ]
  },
  {
   "cell_type": "code",
   "execution_count": 45,
   "id": "1240a5b8",
   "metadata": {},
   "outputs": [],
   "source": [
    "even_list = [i for i in list1 if i%2==0]"
   ]
  },
  {
   "cell_type": "code",
   "execution_count": 46,
   "id": "87c7e246",
   "metadata": {},
   "outputs": [
    {
     "name": "stdout",
     "output_type": "stream",
     "text": [
      "[54, 78]\n"
     ]
    }
   ],
   "source": [
    "print(even_list)"
   ]
  },
  {
   "cell_type": "code",
   "execution_count": 48,
   "id": "c62a49b9",
   "metadata": {},
   "outputs": [
    {
     "data": {
      "text/plain": [
       "['apple', 'apple', 'apple']"
      ]
     },
     "execution_count": 48,
     "metadata": {},
     "output_type": "execute_result"
    }
   ],
   "source": [
    "['apple' for i in range(3)]"
   ]
  },
  {
   "cell_type": "code",
   "execution_count": 49,
   "id": "52289f71",
   "metadata": {},
   "outputs": [
    {
     "data": {
      "text/plain": [
       "['apple0', 'apple1', 'apple2']"
      ]
     },
     "execution_count": 49,
     "metadata": {},
     "output_type": "execute_result"
    }
   ],
   "source": [
    "['apple'+str(i) for i in range(3)]"
   ]
  },
  {
   "cell_type": "code",
   "execution_count": 51,
   "id": "1172fb77",
   "metadata": {},
   "outputs": [],
   "source": [
    "x = ['apple','kiwi','mango','apricot','avocado','pineapple','grapes']\n",
    "\n",
    "y = [i for i in x if i[0] == 'a']"
   ]
  },
  {
   "cell_type": "code",
   "execution_count": 53,
   "id": "f54e5963",
   "metadata": {},
   "outputs": [
    {
     "name": "stdout",
     "output_type": "stream",
     "text": [
      "['apple', 'apricot', 'avocado']\n"
     ]
    }
   ],
   "source": [
    "y = []\n",
    "for i in x:\n",
    "    if i[0] == 'a':\n",
    "        y.append(i)\n",
    "        \n",
    "print(y)"
   ]
  },
  {
   "cell_type": "code",
   "execution_count": 54,
   "id": "3003410c",
   "metadata": {},
   "outputs": [
    {
     "data": {
      "text/plain": [
       "[0, 1, 2]"
      ]
     },
     "execution_count": 54,
     "metadata": {},
     "output_type": "execute_result"
    }
   ],
   "source": [
    "[i for i in range(3)]"
   ]
  },
  {
   "cell_type": "code",
   "execution_count": 55,
   "id": "3c41aa97",
   "metadata": {},
   "outputs": [
    {
     "data": {
      "text/plain": [
       "[10, 11, 12]"
      ]
     },
     "execution_count": 55,
     "metadata": {},
     "output_type": "execute_result"
    }
   ],
   "source": [
    "[i+10 for i in range(3)]"
   ]
  },
  {
   "cell_type": "code",
   "execution_count": 56,
   "id": "2ec27e50",
   "metadata": {},
   "outputs": [
    {
     "data": {
      "text/plain": [
       "[]"
      ]
     },
     "execution_count": 56,
     "metadata": {},
     "output_type": "execute_result"
    }
   ],
   "source": [
    "[i+10 for i in range(3) if i>10]"
   ]
  },
  {
   "cell_type": "code",
   "execution_count": 57,
   "id": "565f6cb2",
   "metadata": {},
   "outputs": [
    {
     "data": {
      "text/plain": [
       "[12]"
      ]
     },
     "execution_count": 57,
     "metadata": {},
     "output_type": "execute_result"
    }
   ],
   "source": [
    "[i+10 for i in range(3) if i>1]"
   ]
  },
  {
   "cell_type": "code",
   "execution_count": 61,
   "id": "89b7c758",
   "metadata": {},
   "outputs": [
    {
     "name": "stdout",
     "output_type": "stream",
     "text": [
      "[]\n"
     ]
    }
   ],
   "source": [
    "ans = []\n",
    "for i in range(3):\n",
    "    if i>10:\n",
    "        ans.append(i+10)\n",
    "print(ans)"
   ]
  },
  {
   "cell_type": "code",
   "execution_count": 62,
   "id": "742e4cbb",
   "metadata": {},
   "outputs": [],
   "source": [
    "x = ['apple',200,(1,2),{'python':3,'java':8},'mango','kiwi',34.56]"
   ]
  },
  {
   "cell_type": "code",
   "execution_count": 63,
   "id": "886f8b60",
   "metadata": {},
   "outputs": [
    {
     "data": {
      "text/plain": [
       "['apple', 'mango', 'kiwi']"
      ]
     },
     "execution_count": 63,
     "metadata": {},
     "output_type": "execute_result"
    }
   ],
   "source": [
    "[i for i in x if type(i) == str]"
   ]
  },
  {
   "cell_type": "code",
   "execution_count": null,
   "id": "aee0fb9c",
   "metadata": {},
   "outputs": [],
   "source": [
    "# Another way of list comprehension\n",
    "# if else"
   ]
  },
  {
   "cell_type": "code",
   "execution_count": 64,
   "id": "f3d91b1d",
   "metadata": {},
   "outputs": [],
   "source": [
    "x = [1,2,55,67,80]\n",
    "y = ['odd','even','odd','odd','even']"
   ]
  },
  {
   "cell_type": "code",
   "execution_count": 65,
   "id": "9e1c5fd7",
   "metadata": {},
   "outputs": [
    {
     "data": {
      "text/plain": [
       "['odd', 'even', 'odd', 'odd', 'even']"
      ]
     },
     "execution_count": 65,
     "metadata": {},
     "output_type": "execute_result"
    }
   ],
   "source": [
    "['even' if i%2==0 else 'odd' for i in x]"
   ]
  },
  {
   "cell_type": "code",
   "execution_count": 66,
   "id": "893bdc0e",
   "metadata": {},
   "outputs": [],
   "source": [
    "# zip"
   ]
  },
  {
   "cell_type": "code",
   "execution_count": 67,
   "id": "631e137c",
   "metadata": {},
   "outputs": [
    {
     "data": {
      "text/plain": [
       "[(1, 10), (2, 20), (3, 30), (4, 40), (5, 50)]"
      ]
     },
     "execution_count": 67,
     "metadata": {},
     "output_type": "execute_result"
    }
   ],
   "source": [
    "l1 = [1,2,3,4,5]\n",
    "l2 = [10,20,30,40,50]\n",
    "\n",
    "list(zip(l1,l2))"
   ]
  },
  {
   "cell_type": "code",
   "execution_count": 68,
   "id": "1a63e3ee",
   "metadata": {},
   "outputs": [
    {
     "data": {
      "text/plain": [
       "[(1, 10), (2, 20), (3, 30), (4, 40)]"
      ]
     },
     "execution_count": 68,
     "metadata": {},
     "output_type": "execute_result"
    }
   ],
   "source": [
    "l1 = [1,2,3,4,5]\n",
    "l2 = [10,20,30,40]\n",
    "\n",
    "list(zip(l1,l2))"
   ]
  },
  {
   "cell_type": "code",
   "execution_count": 69,
   "id": "86cd8fc8",
   "metadata": {},
   "outputs": [
    {
     "name": "stdout",
     "output_type": "stream",
     "text": [
      "11\n",
      "22\n",
      "33\n",
      "44\n"
     ]
    }
   ],
   "source": [
    "for val1,val2 in zip(l1,l2):\n",
    "    print(val1+val2)"
   ]
  },
  {
   "cell_type": "code",
   "execution_count": 70,
   "id": "a220698e",
   "metadata": {},
   "outputs": [
    {
     "data": {
      "text/plain": [
       "[11, 22, 33, 44]"
      ]
     },
     "execution_count": 70,
     "metadata": {},
     "output_type": "execute_result"
    }
   ],
   "source": [
    "[v1+v2 for v1,v2 in zip(l1,l2)]"
   ]
  },
  {
   "cell_type": "code",
   "execution_count": 72,
   "id": "af688e72",
   "metadata": {},
   "outputs": [
    {
     "data": {
      "text/plain": [
       "[('app', 'solo'), ('rap', 'polo'), ('map', 'rolo'), ('tap', 'moto')]"
      ]
     },
     "execution_count": 72,
     "metadata": {},
     "output_type": "execute_result"
    }
   ],
   "source": [
    "x1 = ['app','rap','map','tap']\n",
    "x2 = ['solo','polo','rolo','moto','toto']\n",
    "\n",
    "list(zip(x1,x2))"
   ]
  },
  {
   "cell_type": "code",
   "execution_count": 76,
   "id": "efe526e0",
   "metadata": {},
   "outputs": [
    {
     "data": {
      "text/plain": [
       "[('app', 'solo', 1), ('rap', 'polo', 2), ('map', 'rolo', 3)]"
      ]
     },
     "execution_count": 76,
     "metadata": {},
     "output_type": "execute_result"
    }
   ],
   "source": [
    "x1 = ['app','rap','map','tap']\n",
    "x2 = ['solo','polo','rolo','moto','toto']\n",
    "x3 = [1,2,3]\n",
    "\n",
    "list(zip(x1,x2,x3))"
   ]
  },
  {
   "cell_type": "code",
   "execution_count": 80,
   "id": "abb61382",
   "metadata": {},
   "outputs": [
    {
     "data": {
      "text/plain": [
       "{'python': 'toto', 'java': 'moto'}"
      ]
     },
     "execution_count": 80,
     "metadata": {},
     "output_type": "execute_result"
    }
   ],
   "source": [
    "e = {'python':3,'java':8}\n",
    "f = {'toto':4,'moto':5}\n",
    "\n",
    "dict(zip(e,f))"
   ]
  },
  {
   "cell_type": "code",
   "execution_count": 79,
   "id": "b3528945",
   "metadata": {},
   "outputs": [],
   "source": [
    "# nested loop in list comprehension"
   ]
  },
  {
   "cell_type": "code",
   "execution_count": 82,
   "id": "1be069ac",
   "metadata": {},
   "outputs": [],
   "source": [
    "y = []\n",
    "for i in [10,5,3]:\n",
    "    for j in range(1,11):\n",
    "        y.append(i*j)"
   ]
  },
  {
   "cell_type": "code",
   "execution_count": 83,
   "id": "1de44626",
   "metadata": {},
   "outputs": [
    {
     "name": "stdout",
     "output_type": "stream",
     "text": [
      "[10, 20, 30, 40, 50, 60, 70, 80, 90, 100, 5, 10, 15, 20, 25, 30, 35, 40, 45, 50, 3, 6, 9, 12, 15, 18, 21, 24, 27, 30]\n"
     ]
    }
   ],
   "source": [
    "print(y)"
   ]
  },
  {
   "cell_type": "code",
   "execution_count": 85,
   "id": "696420ac",
   "metadata": {},
   "outputs": [
    {
     "name": "stdout",
     "output_type": "stream",
     "text": [
      "[10, 20, 30, 40, 50, 60, 70, 80, 90, 100, 5, 10, 15, 20, 25, 30, 35, 40, 45, 50, 3, 6, 9, 12, 15, 18, 21, 24, 27, 30]\n"
     ]
    }
   ],
   "source": [
    "y = [i*j for i in [10,5,3] for j in range(1,11)]\n",
    "print(y)"
   ]
  },
  {
   "cell_type": "code",
   "execution_count": 86,
   "id": "b249efb7",
   "metadata": {},
   "outputs": [
    {
     "data": {
      "text/plain": [
       "4"
      ]
     },
     "execution_count": 86,
     "metadata": {},
     "output_type": "execute_result"
    }
   ],
   "source": [
    "x = 4\n",
    "x"
   ]
  },
  {
   "cell_type": "code",
   "execution_count": null,
   "id": "67598562",
   "metadata": {},
   "outputs": [],
   "source": [
    "NOTE: YOU CAN CONVERT EVERY LIST COMPREHENSION INTO NORMAL CODE\n",
    "    \n",
    "    BUT \n",
    "    \n",
    "    YOU CAN NOT CONVERT EVERY FOR LOOP AND OTHER CODE INTO LIST\n",
    "    COMPREHENSION"
   ]
  },
  {
   "cell_type": "code",
   "execution_count": null,
   "id": "f8358f6d",
   "metadata": {},
   "outputs": [],
   "source": [
    "NOTE2: YOU CAN CONVERT EVERY LAMDA FUNCTION INTO NORMAL FUNCTION\n",
    "    \n",
    "    BUT VICE-VERSA IS NOT TRUE"
   ]
  },
  {
   "cell_type": "code",
   "execution_count": 87,
   "id": "86a30a46",
   "metadata": {},
   "outputs": [],
   "source": [
    "# DICT COMPREHENSION"
   ]
  },
  {
   "cell_type": "code",
   "execution_count": 89,
   "id": "b813a1c3",
   "metadata": {},
   "outputs": [
    {
     "data": {
      "text/plain": [
       "{'apple': 5, 'python': 6, 'django': 6, 'celery': 6, 'cucumber': 8}"
      ]
     },
     "execution_count": 89,
     "metadata": {},
     "output_type": "execute_result"
    }
   ],
   "source": [
    "list1 = ['apple','python','django','celery','cucumber']\n",
    "\n",
    "{i:len(i) for i in list1}"
   ]
  },
  {
   "cell_type": "code",
   "execution_count": 90,
   "id": "492ab27e",
   "metadata": {},
   "outputs": [
    {
     "data": {
      "text/plain": [
       "{10: 20, 30: 40, 50: 60, 70: 80}"
      ]
     },
     "execution_count": 90,
     "metadata": {},
     "output_type": "execute_result"
    }
   ],
   "source": [
    "list1 = [(10,20),(30,40),(50,60),(70,80)]\n",
    "\n",
    "{i[0]:i[1] for i in list1}"
   ]
  },
  {
   "cell_type": "code",
   "execution_count": 93,
   "id": "a99227c6",
   "metadata": {},
   "outputs": [
    {
     "name": "stdout",
     "output_type": "stream",
     "text": [
      "0 apple\n",
      "1 python\n",
      "2 django\n",
      "3 celery\n",
      "4 cucumber\n"
     ]
    }
   ],
   "source": [
    "list1 = ['apple','python','django','celery','cucumber']\n",
    "\n",
    "for i,j in enumerate(list1):\n",
    "    print(i,j)"
   ]
  },
  {
   "cell_type": "code",
   "execution_count": 94,
   "id": "156840fd",
   "metadata": {},
   "outputs": [
    {
     "data": {
      "text/plain": [
       "{0: 'apple', 1: 'python', 2: 'django', 3: 'celery', 4: 'cucumber'}"
      ]
     },
     "execution_count": 94,
     "metadata": {},
     "output_type": "execute_result"
    }
   ],
   "source": [
    "list1 = ['apple','python','django','celery','cucumber']\n",
    "\n",
    "{i:j for i,j in enumerate(list1)}"
   ]
  },
  {
   "cell_type": "code",
   "execution_count": 109,
   "id": "32403826",
   "metadata": {},
   "outputs": [],
   "source": [
    "data = {'q1': {'question': 'What is docstring?',\n",
    "               'options':\n",
    "               ['multiline comment','none of these','documenting function'],\n",
    "              'answer':'documenting function'\n",
    "              },\n",
    "       'q2': {'question': 'Which is actual space station?',\n",
    "             'options':\n",
    "             ['ISS','ISI','RAW'],\n",
    "             'answer':'ISS'},\n",
    "       'q3': {'question': 'What is 1+4?',\n",
    "             'options':['4','5','6'],\n",
    "             'answer':'5'}}"
   ]
  },
  {
   "cell_type": "code",
   "execution_count": 111,
   "id": "b7d9e255",
   "metadata": {},
   "outputs": [
    {
     "name": "stdout",
     "output_type": "stream",
     "text": [
      "quiz\n",
      "What is docstring?\n",
      "0 multiline comment\n",
      "1 none of these\n",
      "2 documenting function\n",
      "Which is actual space station?\n",
      "0 ISS\n",
      "1 ISI\n",
      "2 RAW\n",
      "What is 1+4?\n",
      "0 4\n",
      "1 5\n",
      "2 6\n",
      "\n",
      "answers sheet\n",
      "documenting function\n",
      "ISS\n",
      "5\n"
     ]
    }
   ],
   "source": [
    "print('quiz')\n",
    "for question in data:\n",
    "    print(data[question]['question'])\n",
    "    for i,option in enumerate(data[question]['options']):\n",
    "        print(i,option)\n",
    "        \n",
    "print('\\nanswers sheet')\n",
    "for question in data:\n",
    "    print(data[question]['answer'])"
   ]
  },
  {
   "cell_type": "code",
   "execution_count": 113,
   "id": "7977dc10",
   "metadata": {},
   "outputs": [],
   "source": [
    "data = {'india':{'population':1380000000,\n",
    "                 'gender_ratio':1.02},\n",
    "        'china':{'population':1400000000,\n",
    "                 'gender_ratio':0.95}\n",
    "       }"
   ]
  },
  {
   "cell_type": "code",
   "execution_count": 121,
   "id": "d02eab85",
   "metadata": {},
   "outputs": [
    {
     "name": "stdout",
     "output_type": "stream",
     "text": [
      "1380000000\n",
      "1400000000\n"
     ]
    }
   ],
   "source": [
    "data = {'india':{'population':1380000000,\n",
    "                 'gender_ratio':1.02},\n",
    "        'china':{'population':1400000000,\n",
    "                 'gender_ratio':0.95}\n",
    "       }\n",
    "for country_name in data:\n",
    "    print(data[country_name]['population'])"
   ]
  },
  {
   "cell_type": "code",
   "execution_count": 116,
   "id": "3fe989b6",
   "metadata": {},
   "outputs": [
    {
     "name": "stdout",
     "output_type": "stream",
     "text": [
      "The population of  india  is 1380000000\n",
      "The gender_ratio of  india  is 1.02\n",
      "The population of  china  is 1400000000\n",
      "The gender_ratio of  china  is 0.95\n"
     ]
    }
   ],
   "source": [
    "for country_name in data:\n",
    "    print('The population of ',country_name,\n",
    "          ' is',data[country_name]['population'])\n",
    "    print('The gender_ratio of ',country_name,\n",
    "      ' is',data[country_name]['gender_ratio'])"
   ]
  },
  {
   "cell_type": "code",
   "execution_count": null,
   "id": "6a3245f0",
   "metadata": {},
   "outputs": [],
   "source": []
  }
 ],
 "metadata": {
  "kernelspec": {
   "display_name": "Python 3 (ipykernel)",
   "language": "python",
   "name": "python3"
  },
  "language_info": {
   "codemirror_mode": {
    "name": "ipython",
    "version": 3
   },
   "file_extension": ".py",
   "mimetype": "text/x-python",
   "name": "python",
   "nbconvert_exporter": "python",
   "pygments_lexer": "ipython3",
   "version": "3.8.9"
  }
 },
 "nbformat": 4,
 "nbformat_minor": 5
}
