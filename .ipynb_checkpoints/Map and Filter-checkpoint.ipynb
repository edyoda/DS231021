{
 "cells": [
  {
   "cell_type": "code",
   "execution_count": 1,
   "id": "e7b3b633",
   "metadata": {},
   "outputs": [],
   "source": [
    "# map"
   ]
  },
  {
   "cell_type": "code",
   "execution_count": 2,
   "id": "d3ef262b",
   "metadata": {},
   "outputs": [],
   "source": [
    "def sqr(n):\n",
    "    return n**2"
   ]
  },
  {
   "cell_type": "code",
   "execution_count": 3,
   "id": "6d0912cb",
   "metadata": {},
   "outputs": [
    {
     "data": {
      "text/plain": [
       "4"
      ]
     },
     "execution_count": 3,
     "metadata": {},
     "output_type": "execute_result"
    }
   ],
   "source": [
    "sqr(2)"
   ]
  },
  {
   "cell_type": "code",
   "execution_count": 5,
   "id": "9805b4ce",
   "metadata": {},
   "outputs": [
    {
     "data": {
      "text/plain": [
       "[1, 4, 9]"
      ]
     },
     "execution_count": 5,
     "metadata": {},
     "output_type": "execute_result"
    }
   ],
   "source": [
    "list(map(sqr,[1,2,3]))"
   ]
  },
  {
   "cell_type": "code",
   "execution_count": 7,
   "id": "178ba2c3",
   "metadata": {},
   "outputs": [
    {
     "data": {
      "text/plain": [
       "[1, 2, 8, 6]"
      ]
     },
     "execution_count": 7,
     "metadata": {},
     "output_type": "execute_result"
    }
   ],
   "source": [
    "list(map(len,['I','am','learning','python']))"
   ]
  },
  {
   "cell_type": "code",
   "execution_count": null,
   "id": "98c9b774",
   "metadata": {},
   "outputs": [],
   "source": [
    "Iterables:\n",
    "    list\n",
    "    dict\n",
    "    tuple\n",
    "    str\n",
    "    set"
   ]
  },
  {
   "cell_type": "code",
   "execution_count": 9,
   "id": "99507637",
   "metadata": {},
   "outputs": [
    {
     "data": {
      "text/plain": [
       "[1, 2, 8, 6]"
      ]
     },
     "execution_count": 9,
     "metadata": {},
     "output_type": "execute_result"
    }
   ],
   "source": [
    "list(map(len,('I','am','learning','python')))"
   ]
  },
  {
   "cell_type": "code",
   "execution_count": null,
   "id": "3e630419",
   "metadata": {},
   "outputs": [],
   "source": [
    "Q1) Use map to the following results when the item is in the given_list\n",
    "\n",
    "'potato' => 'gold'\n",
    "'harpic' => 'hussain'\n",
    "'mango' => 'fruiti'\n",
    "\n",
    "given_list = ['potato','harpic','harpic']\n",
    "result = ['gold','hussain','hussain']"
   ]
  },
  {
   "cell_type": "code",
   "execution_count": 10,
   "id": "1e52ef63",
   "metadata": {},
   "outputs": [],
   "source": [
    "def funfun(string):\n",
    "    if string == 'potato':\n",
    "        return 'gold'\n",
    "    elif string == 'harpic':\n",
    "        return 'hussain'\n",
    "    else:\n",
    "        return 'fruiti'"
   ]
  },
  {
   "cell_type": "code",
   "execution_count": 12,
   "id": "0a530978",
   "metadata": {},
   "outputs": [
    {
     "name": "stdout",
     "output_type": "stream",
     "text": [
      "['gold', 'hussain', 'hussain']\n"
     ]
    }
   ],
   "source": [
    "given_list = ['potato','harpic','harpic']\n",
    "x = map(funfun,given_list)\n",
    "print(list(x))"
   ]
  },
  {
   "cell_type": "code",
   "execution_count": 15,
   "id": "88cbc0d5",
   "metadata": {},
   "outputs": [],
   "source": [
    "def funfun(string):\n",
    "    pranjul_dict = {'potato':'gold','harpic':'hussain','mango':'fruiti'}\n",
    "    return pranjul_dict[string]"
   ]
  },
  {
   "cell_type": "code",
   "execution_count": 17,
   "id": "58421f7e",
   "metadata": {},
   "outputs": [
    {
     "name": "stdout",
     "output_type": "stream",
     "text": [
      "['gold', 'hussain', 'hussain', 'fruiti']\n"
     ]
    }
   ],
   "source": [
    "given_list = ['potato','harpic','harpic','mango']\n",
    "x = map(funfun,given_list)\n",
    "print(list(x))"
   ]
  },
  {
   "cell_type": "code",
   "execution_count": 18,
   "id": "d612f248",
   "metadata": {},
   "outputs": [
    {
     "data": {
      "text/plain": [
       "str"
      ]
     },
     "execution_count": 18,
     "metadata": {},
     "output_type": "execute_result"
    }
   ],
   "source": [
    "x = ['11','22','33','44','55']\n",
    "type(x[0])"
   ]
  },
  {
   "cell_type": "code",
   "execution_count": 20,
   "id": "05cf99df",
   "metadata": {},
   "outputs": [
    {
     "name": "stdout",
     "output_type": "stream",
     "text": [
      "<class 'int'>\n",
      "[11, 22, 33, 44, 55]\n"
     ]
    }
   ],
   "source": [
    "for i in range(0,len(x)):\n",
    "    x[i] = int(x[i])\n",
    "print(type(x[0]))\n",
    "print(x)"
   ]
  },
  {
   "cell_type": "code",
   "execution_count": 21,
   "id": "3327e6bf",
   "metadata": {},
   "outputs": [
    {
     "name": "stdout",
     "output_type": "stream",
     "text": [
      "<class 'int'>\n"
     ]
    }
   ],
   "source": [
    "x = ['11','22','33','44','55']\n",
    "\n",
    "x = list(map(int,x))\n",
    "print(type(x[0]))"
   ]
  },
  {
   "cell_type": "code",
   "execution_count": null,
   "id": "a281a09a",
   "metadata": {},
   "outputs": [],
   "source": [
    "Q2) x = [23,34,45,56,79,99]\n",
    "    x = ['odd','even','odd','even','odd','odd']\n",
    "    \n",
    "    y = [1,3]\n",
    "    y = ['odd','odd']\n",
    "    \n",
    "    z = [3,4]\n",
    "    z = ['odd','even']\n",
    "    \n",
    "# Do it using map\n",
    "# 8:07"
   ]
  },
  {
   "cell_type": "code",
   "execution_count": 22,
   "id": "5c5b7eaa",
   "metadata": {},
   "outputs": [],
   "source": [
    "def funfun2(n):\n",
    "    if n%2 == 0:\n",
    "        return 'even'\n",
    "    else:\n",
    "        return 'odd'"
   ]
  },
  {
   "cell_type": "code",
   "execution_count": 23,
   "id": "1f0afe97",
   "metadata": {},
   "outputs": [
    {
     "data": {
      "text/plain": [
       "['odd', 'even', 'odd', 'even', 'odd', 'odd']"
      ]
     },
     "execution_count": 23,
     "metadata": {},
     "output_type": "execute_result"
    }
   ],
   "source": [
    "list(map(funfun2,[23,34,45,56,79,99]))"
   ]
  },
  {
   "cell_type": "code",
   "execution_count": null,
   "id": "061cd2ea",
   "metadata": {},
   "outputs": [],
   "source": []
  }
 ],
 "metadata": {
  "kernelspec": {
   "display_name": "Python 3 (ipykernel)",
   "language": "python",
   "name": "python3"
  },
  "language_info": {
   "codemirror_mode": {
    "name": "ipython",
    "version": 3
   },
   "file_extension": ".py",
   "mimetype": "text/x-python",
   "name": "python",
   "nbconvert_exporter": "python",
   "pygments_lexer": "ipython3",
   "version": "3.8.9"
  }
 },
 "nbformat": 4,
 "nbformat_minor": 5
}
